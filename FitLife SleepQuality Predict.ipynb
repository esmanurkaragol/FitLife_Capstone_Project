{
 "cells": [
  {
   "cell_type": "markdown",
   "id": "cb3ea447",
   "metadata": {},
   "source": [
    "#                                      # FitBit CAPSTONE PROJECT PİPELİNE"
   ]
  },
  {
   "cell_type": "code",
   "execution_count": 2,
   "id": "60630892",
   "metadata": {},
   "outputs": [],
   "source": [
    "import numpy as np\n",
    "import pandas as pd\n",
    "from matplotlib import pyplot as plt\n",
    "import random\n",
    "import seaborn as sns\n",
    "from sklearn.model_selection import train_test_split, cross_validate, GridSearchCV, cross_val_score\n",
    "from sklearn.linear_model import LinearRegression, LogisticRegression\n",
    "from catboost import CatBoostClassifier\n",
    "from sklearn.tree import DecisionTreeClassifier\n",
    "from sklearn.naive_bayes import GaussianNB\n",
    "from sklearn import preprocessing\n",
    "from sklearn.preprocessing import RobustScaler, MinMaxScaler, LabelEncoder,OneHotEncoder\n",
    "from sklearn.cluster import KMeans\n",
    "from sklearn.svm import SVC\n",
    "from sklearn.ensemble import RandomForestClassifier, GradientBoostingClassifier, VotingClassifier, AdaBoostClassifier\n",
    "from xgboost import XGBClassifier\n",
    "from lightgbm import LGBMClassifier\n",
    "\n"
   ]
  },
  {
   "cell_type": "code",
   "execution_count": 3,
   "id": "bf5c5009",
   "metadata": {},
   "outputs": [],
   "source": [
    "import warnings\n",
    "\n",
    "def fxn():\n",
    "    warnings.warn(\"deprecated\", DeprecationWarning)\n",
    "\n",
    "with warnings.catch_warnings():\n",
    "    warnings.simplefilter(\"ignore\")\n",
    "    fxn()\n",
    "\n",
    "warnings.filterwarnings('ignore')"
   ]
  },
  {
   "cell_type": "code",
   "execution_count": 4,
   "id": "898eb0c1",
   "metadata": {},
   "outputs": [],
   "source": [
    "#pip install -U seaborn\n",
    "#! pip install --upgrade matplotlib\n",
    "#!pip install missingno"
   ]
  },
  {
   "cell_type": "code",
   "execution_count": 5,
   "id": "4bcca016",
   "metadata": {},
   "outputs": [
    {
     "name": "stdout",
     "output_type": "stream",
     "text": [
      "Requirement already satisfied: yellowbrick in c:\\users\\esman\\anaconda3\\lib\\site-packages (1.5)\n",
      "Requirement already satisfied: scikit-learn>=1.0.0 in c:\\users\\esman\\anaconda3\\lib\\site-packages (from yellowbrick) (1.2.2)\n",
      "Requirement already satisfied: scipy>=1.0.0 in c:\\users\\esman\\anaconda3\\lib\\site-packages (from yellowbrick) (1.10.1)\n",
      "Requirement already satisfied: matplotlib!=3.0.0,>=2.0.2 in c:\\users\\esman\\anaconda3\\lib\\site-packages (from yellowbrick) (3.7.1)\n",
      "Requirement already satisfied: numpy>=1.16.0 in c:\\users\\esman\\anaconda3\\lib\\site-packages (from yellowbrick) (1.23.5)\n",
      "Requirement already satisfied: cycler>=0.10.0 in c:\\users\\esman\\anaconda3\\lib\\site-packages (from yellowbrick) (0.11.0)\n",
      "Requirement already satisfied: pyparsing>=2.3.1 in c:\\users\\esman\\anaconda3\\lib\\site-packages (from matplotlib!=3.0.0,>=2.0.2->yellowbrick) (3.0.9)\n",
      "Requirement already satisfied: importlib-resources>=3.2.0 in c:\\users\\esman\\anaconda3\\lib\\site-packages (from matplotlib!=3.0.0,>=2.0.2->yellowbrick) (5.12.0)\n",
      "Requirement already satisfied: fonttools>=4.22.0 in c:\\users\\esman\\anaconda3\\lib\\site-packages (from matplotlib!=3.0.0,>=2.0.2->yellowbrick) (4.25.0)\n",
      "Requirement already satisfied: python-dateutil>=2.7 in c:\\users\\esman\\anaconda3\\lib\\site-packages (from matplotlib!=3.0.0,>=2.0.2->yellowbrick) (2.8.2)\n",
      "Requirement already satisfied: kiwisolver>=1.0.1 in c:\\users\\esman\\anaconda3\\lib\\site-packages (from matplotlib!=3.0.0,>=2.0.2->yellowbrick) (1.4.4)\n",
      "Requirement already satisfied: contourpy>=1.0.1 in c:\\users\\esman\\anaconda3\\lib\\site-packages (from matplotlib!=3.0.0,>=2.0.2->yellowbrick) (1.0.7)\n",
      "Requirement already satisfied: packaging>=20.0 in c:\\users\\esman\\anaconda3\\lib\\site-packages (from matplotlib!=3.0.0,>=2.0.2->yellowbrick) (23.0)\n",
      "Requirement already satisfied: pillow>=6.2.0 in c:\\users\\esman\\anaconda3\\lib\\site-packages (from matplotlib!=3.0.0,>=2.0.2->yellowbrick) (9.4.0)\n",
      "Requirement already satisfied: joblib>=1.1.1 in c:\\users\\esman\\anaconda3\\lib\\site-packages (from scikit-learn>=1.0.0->yellowbrick) (1.2.0)\n",
      "Requirement already satisfied: threadpoolctl>=2.0.0 in c:\\users\\esman\\anaconda3\\lib\\site-packages (from scikit-learn>=1.0.0->yellowbrick) (2.2.0)\n",
      "Requirement already satisfied: zipp>=3.1.0 in c:\\users\\esman\\anaconda3\\lib\\site-packages (from importlib-resources>=3.2.0->matplotlib!=3.0.0,>=2.0.2->yellowbrick) (3.11.0)\n",
      "Requirement already satisfied: six>=1.5 in c:\\users\\esman\\anaconda3\\lib\\site-packages (from python-dateutil>=2.7->matplotlib!=3.0.0,>=2.0.2->yellowbrick) (1.16.0)\n"
     ]
    }
   ],
   "source": [
    "!pip install yellowbrick"
   ]
  },
  {
   "cell_type": "code",
   "execution_count": 6,
   "id": "9444271d",
   "metadata": {},
   "outputs": [],
   "source": [
    "import missingno as msno\n",
    "from datetime import date\n",
    "from sklearn.metrics import accuracy_score\n",
    "from sklearn.model_selection import train_test_split\n",
    "from sklearn.neighbors import LocalOutlierFactor\n",
    "from sklearn.preprocessing import MinMaxScaler, LabelEncoder, StandardScaler, RobustScaler"
   ]
  },
  {
   "cell_type": "code",
   "execution_count": 7,
   "id": "46b80ddf",
   "metadata": {},
   "outputs": [],
   "source": [
    "#pd.set_option('display.max_columns', None)\n",
    "#pd.set_option('display.max_rows', None)\n",
    "pd.set_option('display.width', 500)\n",
    "pd.set_option('display.expand_frame_repr', False)\n",
    "pd.set_option(\"display.float_format\", lambda x: \"%.3f\" %x)"
   ]
  },
  {
   "cell_type": "markdown",
   "id": "77bbe83b",
   "metadata": {},
   "source": [
    "# 1. Exploratory Data Analysis\n"
   ]
  },
  {
   "cell_type": "code",
   "execution_count": 8,
   "id": "c362269f",
   "metadata": {},
   "outputs": [
    {
     "data": {
      "text/html": [
       "<div>\n",
       "<style scoped>\n",
       "    .dataframe tbody tr th:only-of-type {\n",
       "        vertical-align: middle;\n",
       "    }\n",
       "\n",
       "    .dataframe tbody tr th {\n",
       "        vertical-align: top;\n",
       "    }\n",
       "\n",
       "    .dataframe thead th {\n",
       "        text-align: right;\n",
       "    }\n",
       "</style>\n",
       "<table border=\"1\" class=\"dataframe\">\n",
       "  <thead>\n",
       "    <tr style=\"text-align: right;\">\n",
       "      <th></th>\n",
       "      <th>Id</th>\n",
       "      <th>ActivityDay</th>\n",
       "      <th>SedentaryMinutes</th>\n",
       "      <th>LightlyActiveMinutes</th>\n",
       "      <th>FairlyActiveMinutes</th>\n",
       "      <th>VeryActiveMinutes</th>\n",
       "      <th>SedentaryActiveDistance</th>\n",
       "      <th>LightActiveDistance</th>\n",
       "      <th>ModeratelyActiveDistance</th>\n",
       "      <th>VeryActiveDistance</th>\n",
       "    </tr>\n",
       "  </thead>\n",
       "  <tbody>\n",
       "    <tr>\n",
       "      <th>0</th>\n",
       "      <td>1503960366</td>\n",
       "      <td>4/12/2016</td>\n",
       "      <td>728</td>\n",
       "      <td>328</td>\n",
       "      <td>13</td>\n",
       "      <td>25</td>\n",
       "      <td>0.000</td>\n",
       "      <td>6.060</td>\n",
       "      <td>0.550</td>\n",
       "      <td>1.880</td>\n",
       "    </tr>\n",
       "    <tr>\n",
       "      <th>1</th>\n",
       "      <td>1503960366</td>\n",
       "      <td>4/13/2016</td>\n",
       "      <td>776</td>\n",
       "      <td>217</td>\n",
       "      <td>19</td>\n",
       "      <td>21</td>\n",
       "      <td>0.000</td>\n",
       "      <td>4.710</td>\n",
       "      <td>0.690</td>\n",
       "      <td>1.570</td>\n",
       "    </tr>\n",
       "    <tr>\n",
       "      <th>2</th>\n",
       "      <td>1503960366</td>\n",
       "      <td>4/14/2016</td>\n",
       "      <td>1218</td>\n",
       "      <td>181</td>\n",
       "      <td>11</td>\n",
       "      <td>30</td>\n",
       "      <td>0.000</td>\n",
       "      <td>3.910</td>\n",
       "      <td>0.400</td>\n",
       "      <td>2.440</td>\n",
       "    </tr>\n",
       "    <tr>\n",
       "      <th>3</th>\n",
       "      <td>1503960366</td>\n",
       "      <td>4/15/2016</td>\n",
       "      <td>726</td>\n",
       "      <td>209</td>\n",
       "      <td>34</td>\n",
       "      <td>29</td>\n",
       "      <td>0.000</td>\n",
       "      <td>2.830</td>\n",
       "      <td>1.260</td>\n",
       "      <td>2.140</td>\n",
       "    </tr>\n",
       "    <tr>\n",
       "      <th>4</th>\n",
       "      <td>1503960366</td>\n",
       "      <td>4/16/2016</td>\n",
       "      <td>773</td>\n",
       "      <td>221</td>\n",
       "      <td>10</td>\n",
       "      <td>36</td>\n",
       "      <td>0.000</td>\n",
       "      <td>5.040</td>\n",
       "      <td>0.410</td>\n",
       "      <td>2.710</td>\n",
       "    </tr>\n",
       "    <tr>\n",
       "      <th>...</th>\n",
       "      <td>...</td>\n",
       "      <td>...</td>\n",
       "      <td>...</td>\n",
       "      <td>...</td>\n",
       "      <td>...</td>\n",
       "      <td>...</td>\n",
       "      <td>...</td>\n",
       "      <td>...</td>\n",
       "      <td>...</td>\n",
       "      <td>...</td>\n",
       "    </tr>\n",
       "    <tr>\n",
       "      <th>935</th>\n",
       "      <td>8877689391</td>\n",
       "      <td>5/8/2016</td>\n",
       "      <td>1174</td>\n",
       "      <td>245</td>\n",
       "      <td>4</td>\n",
       "      <td>17</td>\n",
       "      <td>0.000</td>\n",
       "      <td>6.800</td>\n",
       "      <td>0.200</td>\n",
       "      <td>1.080</td>\n",
       "    </tr>\n",
       "    <tr>\n",
       "      <th>936</th>\n",
       "      <td>8877689391</td>\n",
       "      <td>5/9/2016</td>\n",
       "      <td>1131</td>\n",
       "      <td>217</td>\n",
       "      <td>19</td>\n",
       "      <td>73</td>\n",
       "      <td>0.050</td>\n",
       "      <td>6.240</td>\n",
       "      <td>0.800</td>\n",
       "      <td>11.100</td>\n",
       "    </tr>\n",
       "    <tr>\n",
       "      <th>937</th>\n",
       "      <td>8877689391</td>\n",
       "      <td>5/10/2016</td>\n",
       "      <td>1187</td>\n",
       "      <td>224</td>\n",
       "      <td>11</td>\n",
       "      <td>18</td>\n",
       "      <td>0.000</td>\n",
       "      <td>6.280</td>\n",
       "      <td>0.460</td>\n",
       "      <td>1.350</td>\n",
       "    </tr>\n",
       "    <tr>\n",
       "      <th>938</th>\n",
       "      <td>8877689391</td>\n",
       "      <td>5/11/2016</td>\n",
       "      <td>1127</td>\n",
       "      <td>213</td>\n",
       "      <td>12</td>\n",
       "      <td>88</td>\n",
       "      <td>0.000</td>\n",
       "      <td>5.890</td>\n",
       "      <td>0.410</td>\n",
       "      <td>13.220</td>\n",
       "    </tr>\n",
       "    <tr>\n",
       "      <th>939</th>\n",
       "      <td>8877689391</td>\n",
       "      <td>5/12/2016</td>\n",
       "      <td>770</td>\n",
       "      <td>137</td>\n",
       "      <td>1</td>\n",
       "      <td>23</td>\n",
       "      <td>0.000</td>\n",
       "      <td>4.250</td>\n",
       "      <td>0.040</td>\n",
       "      <td>1.820</td>\n",
       "    </tr>\n",
       "  </tbody>\n",
       "</table>\n",
       "<p>940 rows × 10 columns</p>\n",
       "</div>"
      ],
      "text/plain": [
       "             Id ActivityDay  SedentaryMinutes  LightlyActiveMinutes  FairlyActiveMinutes  VeryActiveMinutes  SedentaryActiveDistance  LightActiveDistance  ModeratelyActiveDistance  VeryActiveDistance\n",
       "0    1503960366   4/12/2016               728                   328                   13                 25                    0.000                6.060                     0.550               1.880\n",
       "1    1503960366   4/13/2016               776                   217                   19                 21                    0.000                4.710                     0.690               1.570\n",
       "2    1503960366   4/14/2016              1218                   181                   11                 30                    0.000                3.910                     0.400               2.440\n",
       "3    1503960366   4/15/2016               726                   209                   34                 29                    0.000                2.830                     1.260               2.140\n",
       "4    1503960366   4/16/2016               773                   221                   10                 36                    0.000                5.040                     0.410               2.710\n",
       "..          ...         ...               ...                   ...                  ...                ...                      ...                  ...                       ...                 ...\n",
       "935  8877689391    5/8/2016              1174                   245                    4                 17                    0.000                6.800                     0.200               1.080\n",
       "936  8877689391    5/9/2016              1131                   217                   19                 73                    0.050                6.240                     0.800              11.100\n",
       "937  8877689391   5/10/2016              1187                   224                   11                 18                    0.000                6.280                     0.460               1.350\n",
       "938  8877689391   5/11/2016              1127                   213                   12                 88                    0.000                5.890                     0.410              13.220\n",
       "939  8877689391   5/12/2016               770                   137                    1                 23                    0.000                4.250                     0.040               1.820\n",
       "\n",
       "[940 rows x 10 columns]"
      ]
     },
     "execution_count": 8,
     "metadata": {},
     "output_type": "execute_result"
    }
   ],
   "source": [
    "exercise_minitues_records_ = pd.read_csv(\"C:/Users/esman/OneDrive/Masaüstü/FitBit_datasets/exercise_minitues_records.csv\")\n",
    "exercise_minitues_records_"
   ]
  },
  {
   "cell_type": "code",
   "execution_count": 9,
   "id": "285e6326",
   "metadata": {},
   "outputs": [
    {
     "data": {
      "text/html": [
       "<div>\n",
       "<style scoped>\n",
       "    .dataframe tbody tr th:only-of-type {\n",
       "        vertical-align: middle;\n",
       "    }\n",
       "\n",
       "    .dataframe tbody tr th {\n",
       "        vertical-align: top;\n",
       "    }\n",
       "\n",
       "    .dataframe thead th {\n",
       "        text-align: right;\n",
       "    }\n",
       "</style>\n",
       "<table border=\"1\" class=\"dataframe\">\n",
       "  <thead>\n",
       "    <tr style=\"text-align: right;\">\n",
       "      <th></th>\n",
       "      <th>SedentaryMinutes</th>\n",
       "      <th>LightlyActiveMinutes</th>\n",
       "      <th>FairlyActiveMinutes</th>\n",
       "      <th>VeryActiveMinutes</th>\n",
       "    </tr>\n",
       "  </thead>\n",
       "  <tbody>\n",
       "    <tr>\n",
       "      <th>0</th>\n",
       "      <td>728</td>\n",
       "      <td>328</td>\n",
       "      <td>13</td>\n",
       "      <td>25</td>\n",
       "    </tr>\n",
       "    <tr>\n",
       "      <th>1</th>\n",
       "      <td>776</td>\n",
       "      <td>217</td>\n",
       "      <td>19</td>\n",
       "      <td>21</td>\n",
       "    </tr>\n",
       "    <tr>\n",
       "      <th>2</th>\n",
       "      <td>1218</td>\n",
       "      <td>181</td>\n",
       "      <td>11</td>\n",
       "      <td>30</td>\n",
       "    </tr>\n",
       "    <tr>\n",
       "      <th>3</th>\n",
       "      <td>726</td>\n",
       "      <td>209</td>\n",
       "      <td>34</td>\n",
       "      <td>29</td>\n",
       "    </tr>\n",
       "    <tr>\n",
       "      <th>4</th>\n",
       "      <td>773</td>\n",
       "      <td>221</td>\n",
       "      <td>10</td>\n",
       "      <td>36</td>\n",
       "    </tr>\n",
       "    <tr>\n",
       "      <th>...</th>\n",
       "      <td>...</td>\n",
       "      <td>...</td>\n",
       "      <td>...</td>\n",
       "      <td>...</td>\n",
       "    </tr>\n",
       "    <tr>\n",
       "      <th>935</th>\n",
       "      <td>1174</td>\n",
       "      <td>245</td>\n",
       "      <td>4</td>\n",
       "      <td>17</td>\n",
       "    </tr>\n",
       "    <tr>\n",
       "      <th>936</th>\n",
       "      <td>1131</td>\n",
       "      <td>217</td>\n",
       "      <td>19</td>\n",
       "      <td>73</td>\n",
       "    </tr>\n",
       "    <tr>\n",
       "      <th>937</th>\n",
       "      <td>1187</td>\n",
       "      <td>224</td>\n",
       "      <td>11</td>\n",
       "      <td>18</td>\n",
       "    </tr>\n",
       "    <tr>\n",
       "      <th>938</th>\n",
       "      <td>1127</td>\n",
       "      <td>213</td>\n",
       "      <td>12</td>\n",
       "      <td>88</td>\n",
       "    </tr>\n",
       "    <tr>\n",
       "      <th>939</th>\n",
       "      <td>770</td>\n",
       "      <td>137</td>\n",
       "      <td>1</td>\n",
       "      <td>23</td>\n",
       "    </tr>\n",
       "  </tbody>\n",
       "</table>\n",
       "<p>940 rows × 4 columns</p>\n",
       "</div>"
      ],
      "text/plain": [
       "     SedentaryMinutes  LightlyActiveMinutes  FairlyActiveMinutes  VeryActiveMinutes\n",
       "0                 728                   328                   13                 25\n",
       "1                 776                   217                   19                 21\n",
       "2                1218                   181                   11                 30\n",
       "3                 726                   209                   34                 29\n",
       "4                 773                   221                   10                 36\n",
       "..                ...                   ...                  ...                ...\n",
       "935              1174                   245                    4                 17\n",
       "936              1131                   217                   19                 73\n",
       "937              1187                   224                   11                 18\n",
       "938              1127                   213                   12                 88\n",
       "939               770                   137                    1                 23\n",
       "\n",
       "[940 rows x 4 columns]"
      ]
     },
     "execution_count": 9,
     "metadata": {},
     "output_type": "execute_result"
    }
   ],
   "source": [
    "exercise_minitues_records = exercise_minitues_records_.drop([\"Id\", \"ActivityDay\", \"SedentaryActiveDistance\",\"LightActiveDistance\", \"ModeratelyActiveDistance\", \"VeryActiveDistance\" ], axis=1)\n",
    "exercise_minitues_records"
   ]
  },
  {
   "cell_type": "code",
   "execution_count": 10,
   "id": "2c0360fc",
   "metadata": {
    "scrolled": false
   },
   "outputs": [
    {
     "data": {
      "text/html": [
       "<div>\n",
       "<style scoped>\n",
       "    .dataframe tbody tr th:only-of-type {\n",
       "        vertical-align: middle;\n",
       "    }\n",
       "\n",
       "    .dataframe tbody tr th {\n",
       "        vertical-align: top;\n",
       "    }\n",
       "\n",
       "    .dataframe thead th {\n",
       "        text-align: right;\n",
       "    }\n",
       "</style>\n",
       "<table border=\"1\" class=\"dataframe\">\n",
       "  <thead>\n",
       "    <tr style=\"text-align: right;\">\n",
       "      <th></th>\n",
       "      <th>Id</th>\n",
       "      <th>Time</th>\n",
       "      <th>Value</th>\n",
       "    </tr>\n",
       "  </thead>\n",
       "  <tbody>\n",
       "    <tr>\n",
       "      <th>0</th>\n",
       "      <td>2022484408</td>\n",
       "      <td>4/12/2016 7:24:40 AM</td>\n",
       "      <td>56</td>\n",
       "    </tr>\n",
       "    <tr>\n",
       "      <th>1</th>\n",
       "      <td>2022484408</td>\n",
       "      <td>4/12/2016 7:24:50 AM</td>\n",
       "      <td>58</td>\n",
       "    </tr>\n",
       "    <tr>\n",
       "      <th>2</th>\n",
       "      <td>2022484408</td>\n",
       "      <td>4/12/2016 7:25:05 AM</td>\n",
       "      <td>57</td>\n",
       "    </tr>\n",
       "    <tr>\n",
       "      <th>3</th>\n",
       "      <td>2022484408</td>\n",
       "      <td>4/12/2016 7:25:10 AM</td>\n",
       "      <td>58</td>\n",
       "    </tr>\n",
       "    <tr>\n",
       "      <th>4</th>\n",
       "      <td>2022484408</td>\n",
       "      <td>4/12/2016 7:25:15 AM</td>\n",
       "      <td>60</td>\n",
       "    </tr>\n",
       "  </tbody>\n",
       "</table>\n",
       "</div>"
      ],
      "text/plain": [
       "           Id                  Time  Value\n",
       "0  2022484408  4/12/2016 7:24:40 AM     56\n",
       "1  2022484408  4/12/2016 7:24:50 AM     58\n",
       "2  2022484408  4/12/2016 7:25:05 AM     57\n",
       "3  2022484408  4/12/2016 7:25:10 AM     58\n",
       "4  2022484408  4/12/2016 7:25:15 AM     60"
      ]
     },
     "execution_count": 10,
     "metadata": {},
     "output_type": "execute_result"
    }
   ],
   "source": [
    "heartrate_ = pd.read_csv(\"C:/Users/esman/OneDrive/Masaüstü/FitBit_datasets/heartrate.csv\", skiprows=range(1, 25), nrows=941)\n",
    "heartrate_.head()"
   ]
  },
  {
   "cell_type": "code",
   "execution_count": 11,
   "id": "46346e33",
   "metadata": {},
   "outputs": [
    {
     "data": {
      "text/html": [
       "<div>\n",
       "<style scoped>\n",
       "    .dataframe tbody tr th:only-of-type {\n",
       "        vertical-align: middle;\n",
       "    }\n",
       "\n",
       "    .dataframe tbody tr th {\n",
       "        vertical-align: top;\n",
       "    }\n",
       "\n",
       "    .dataframe thead th {\n",
       "        text-align: right;\n",
       "    }\n",
       "</style>\n",
       "<table border=\"1\" class=\"dataframe\">\n",
       "  <thead>\n",
       "    <tr style=\"text-align: right;\">\n",
       "      <th></th>\n",
       "      <th>heartrate</th>\n",
       "    </tr>\n",
       "  </thead>\n",
       "  <tbody>\n",
       "    <tr>\n",
       "      <th>0</th>\n",
       "      <td>56</td>\n",
       "    </tr>\n",
       "    <tr>\n",
       "      <th>1</th>\n",
       "      <td>58</td>\n",
       "    </tr>\n",
       "    <tr>\n",
       "      <th>2</th>\n",
       "      <td>57</td>\n",
       "    </tr>\n",
       "    <tr>\n",
       "      <th>3</th>\n",
       "      <td>58</td>\n",
       "    </tr>\n",
       "    <tr>\n",
       "      <th>4</th>\n",
       "      <td>60</td>\n",
       "    </tr>\n",
       "    <tr>\n",
       "      <th>...</th>\n",
       "      <td>...</td>\n",
       "    </tr>\n",
       "    <tr>\n",
       "      <th>936</th>\n",
       "      <td>85</td>\n",
       "    </tr>\n",
       "    <tr>\n",
       "      <th>937</th>\n",
       "      <td>81</td>\n",
       "    </tr>\n",
       "    <tr>\n",
       "      <th>938</th>\n",
       "      <td>79</td>\n",
       "    </tr>\n",
       "    <tr>\n",
       "      <th>939</th>\n",
       "      <td>75</td>\n",
       "    </tr>\n",
       "    <tr>\n",
       "      <th>940</th>\n",
       "      <td>72</td>\n",
       "    </tr>\n",
       "  </tbody>\n",
       "</table>\n",
       "<p>941 rows × 1 columns</p>\n",
       "</div>"
      ],
      "text/plain": [
       "     heartrate\n",
       "0           56\n",
       "1           58\n",
       "2           57\n",
       "3           58\n",
       "4           60\n",
       "..         ...\n",
       "936         85\n",
       "937         81\n",
       "938         79\n",
       "939         75\n",
       "940         72\n",
       "\n",
       "[941 rows x 1 columns]"
      ]
     },
     "execution_count": 11,
     "metadata": {},
     "output_type": "execute_result"
    }
   ],
   "source": [
    "heartrate = heartrate_.drop([\"Id\", \"Time\"], axis=1)\n",
    "heartrate.rename(columns={\"Value\": \"heartrate\"}, inplace=True)\n",
    "heartrate"
   ]
  },
  {
   "cell_type": "code",
   "execution_count": 12,
   "id": "a31c1ba8",
   "metadata": {
    "scrolled": true
   },
   "outputs": [
    {
     "data": {
      "text/html": [
       "<div>\n",
       "<style scoped>\n",
       "    .dataframe tbody tr th:only-of-type {\n",
       "        vertical-align: middle;\n",
       "    }\n",
       "\n",
       "    .dataframe tbody tr th {\n",
       "        vertical-align: top;\n",
       "    }\n",
       "\n",
       "    .dataframe thead th {\n",
       "        text-align: right;\n",
       "    }\n",
       "</style>\n",
       "<table border=\"1\" class=\"dataframe\">\n",
       "  <thead>\n",
       "    <tr style=\"text-align: right;\">\n",
       "      <th></th>\n",
       "      <th>Id</th>\n",
       "      <th>SleepDay</th>\n",
       "      <th>TotalSleepRecords</th>\n",
       "      <th>TotalMinutesAsleep</th>\n",
       "      <th>TotalTimeInBed</th>\n",
       "    </tr>\n",
       "  </thead>\n",
       "  <tbody>\n",
       "    <tr>\n",
       "      <th>0</th>\n",
       "      <td>1503960366</td>\n",
       "      <td>4/12/2016 12:00:00 AM</td>\n",
       "      <td>1</td>\n",
       "      <td>327</td>\n",
       "      <td>346</td>\n",
       "    </tr>\n",
       "    <tr>\n",
       "      <th>1</th>\n",
       "      <td>1503960366</td>\n",
       "      <td>4/13/2016 12:00:00 AM</td>\n",
       "      <td>2</td>\n",
       "      <td>384</td>\n",
       "      <td>407</td>\n",
       "    </tr>\n",
       "    <tr>\n",
       "      <th>2</th>\n",
       "      <td>1503960366</td>\n",
       "      <td>4/15/2016 12:00:00 AM</td>\n",
       "      <td>1</td>\n",
       "      <td>412</td>\n",
       "      <td>442</td>\n",
       "    </tr>\n",
       "    <tr>\n",
       "      <th>3</th>\n",
       "      <td>1503960366</td>\n",
       "      <td>4/16/2016 12:00:00 AM</td>\n",
       "      <td>2</td>\n",
       "      <td>340</td>\n",
       "      <td>367</td>\n",
       "    </tr>\n",
       "    <tr>\n",
       "      <th>4</th>\n",
       "      <td>1503960366</td>\n",
       "      <td>4/17/2016 12:00:00 AM</td>\n",
       "      <td>1</td>\n",
       "      <td>700</td>\n",
       "      <td>712</td>\n",
       "    </tr>\n",
       "    <tr>\n",
       "      <th>...</th>\n",
       "      <td>...</td>\n",
       "      <td>...</td>\n",
       "      <td>...</td>\n",
       "      <td>...</td>\n",
       "      <td>...</td>\n",
       "    </tr>\n",
       "    <tr>\n",
       "      <th>408</th>\n",
       "      <td>8792009665</td>\n",
       "      <td>4/30/2016 12:00:00 AM</td>\n",
       "      <td>1</td>\n",
       "      <td>343</td>\n",
       "      <td>360</td>\n",
       "    </tr>\n",
       "    <tr>\n",
       "      <th>409</th>\n",
       "      <td>8792009665</td>\n",
       "      <td>5/1/2016 12:00:00 AM</td>\n",
       "      <td>1</td>\n",
       "      <td>503</td>\n",
       "      <td>527</td>\n",
       "    </tr>\n",
       "    <tr>\n",
       "      <th>410</th>\n",
       "      <td>8792009665</td>\n",
       "      <td>5/2/2016 12:00:00 AM</td>\n",
       "      <td>1</td>\n",
       "      <td>415</td>\n",
       "      <td>423</td>\n",
       "    </tr>\n",
       "    <tr>\n",
       "      <th>411</th>\n",
       "      <td>8792009665</td>\n",
       "      <td>5/3/2016 12:00:00 AM</td>\n",
       "      <td>1</td>\n",
       "      <td>516</td>\n",
       "      <td>545</td>\n",
       "    </tr>\n",
       "    <tr>\n",
       "      <th>412</th>\n",
       "      <td>8792009665</td>\n",
       "      <td>5/4/2016 12:00:00 AM</td>\n",
       "      <td>1</td>\n",
       "      <td>439</td>\n",
       "      <td>463</td>\n",
       "    </tr>\n",
       "  </tbody>\n",
       "</table>\n",
       "<p>413 rows × 5 columns</p>\n",
       "</div>"
      ],
      "text/plain": [
       "             Id               SleepDay  TotalSleepRecords  TotalMinutesAsleep  TotalTimeInBed\n",
       "0    1503960366  4/12/2016 12:00:00 AM                  1                 327             346\n",
       "1    1503960366  4/13/2016 12:00:00 AM                  2                 384             407\n",
       "2    1503960366  4/15/2016 12:00:00 AM                  1                 412             442\n",
       "3    1503960366  4/16/2016 12:00:00 AM                  2                 340             367\n",
       "4    1503960366  4/17/2016 12:00:00 AM                  1                 700             712\n",
       "..          ...                    ...                ...                 ...             ...\n",
       "408  8792009665  4/30/2016 12:00:00 AM                  1                 343             360\n",
       "409  8792009665   5/1/2016 12:00:00 AM                  1                 503             527\n",
       "410  8792009665   5/2/2016 12:00:00 AM                  1                 415             423\n",
       "411  8792009665   5/3/2016 12:00:00 AM                  1                 516             545\n",
       "412  8792009665   5/4/2016 12:00:00 AM                  1                 439             463\n",
       "\n",
       "[413 rows x 5 columns]"
      ]
     },
     "execution_count": 12,
     "metadata": {},
     "output_type": "execute_result"
    }
   ],
   "source": [
    "total_minutes_sleep_ = pd.read_csv(\"C:/Users/esman/OneDrive/Masaüstü/FitBit_datasets/total_minutes_sleep.csv\")\n",
    "total_minutes_sleep_"
   ]
  },
  {
   "cell_type": "code",
   "execution_count": 13,
   "id": "28bf8c6e",
   "metadata": {},
   "outputs": [
    {
     "data": {
      "text/html": [
       "<div>\n",
       "<style scoped>\n",
       "    .dataframe tbody tr th:only-of-type {\n",
       "        vertical-align: middle;\n",
       "    }\n",
       "\n",
       "    .dataframe tbody tr th {\n",
       "        vertical-align: top;\n",
       "    }\n",
       "\n",
       "    .dataframe thead th {\n",
       "        text-align: right;\n",
       "    }\n",
       "</style>\n",
       "<table border=\"1\" class=\"dataframe\">\n",
       "  <thead>\n",
       "    <tr style=\"text-align: right;\">\n",
       "      <th></th>\n",
       "      <th>TotalMinutesAsleep</th>\n",
       "      <th>TotalTimeInBed</th>\n",
       "    </tr>\n",
       "  </thead>\n",
       "  <tbody>\n",
       "    <tr>\n",
       "      <th>0</th>\n",
       "      <td>327</td>\n",
       "      <td>346</td>\n",
       "    </tr>\n",
       "    <tr>\n",
       "      <th>1</th>\n",
       "      <td>384</td>\n",
       "      <td>407</td>\n",
       "    </tr>\n",
       "    <tr>\n",
       "      <th>2</th>\n",
       "      <td>412</td>\n",
       "      <td>442</td>\n",
       "    </tr>\n",
       "    <tr>\n",
       "      <th>3</th>\n",
       "      <td>340</td>\n",
       "      <td>367</td>\n",
       "    </tr>\n",
       "    <tr>\n",
       "      <th>4</th>\n",
       "      <td>700</td>\n",
       "      <td>712</td>\n",
       "    </tr>\n",
       "    <tr>\n",
       "      <th>...</th>\n",
       "      <td>...</td>\n",
       "      <td>...</td>\n",
       "    </tr>\n",
       "    <tr>\n",
       "      <th>408</th>\n",
       "      <td>343</td>\n",
       "      <td>360</td>\n",
       "    </tr>\n",
       "    <tr>\n",
       "      <th>409</th>\n",
       "      <td>503</td>\n",
       "      <td>527</td>\n",
       "    </tr>\n",
       "    <tr>\n",
       "      <th>410</th>\n",
       "      <td>415</td>\n",
       "      <td>423</td>\n",
       "    </tr>\n",
       "    <tr>\n",
       "      <th>411</th>\n",
       "      <td>516</td>\n",
       "      <td>545</td>\n",
       "    </tr>\n",
       "    <tr>\n",
       "      <th>412</th>\n",
       "      <td>439</td>\n",
       "      <td>463</td>\n",
       "    </tr>\n",
       "  </tbody>\n",
       "</table>\n",
       "<p>413 rows × 2 columns</p>\n",
       "</div>"
      ],
      "text/plain": [
       "     TotalMinutesAsleep  TotalTimeInBed\n",
       "0                   327             346\n",
       "1                   384             407\n",
       "2                   412             442\n",
       "3                   340             367\n",
       "4                   700             712\n",
       "..                  ...             ...\n",
       "408                 343             360\n",
       "409                 503             527\n",
       "410                 415             423\n",
       "411                 516             545\n",
       "412                 439             463\n",
       "\n",
       "[413 rows x 2 columns]"
      ]
     },
     "execution_count": 13,
     "metadata": {},
     "output_type": "execute_result"
    }
   ],
   "source": [
    "total_minutes_sleep = total_minutes_sleep_.drop([\"Id\", \"SleepDay\", \"TotalSleepRecords\"], axis=1)\n",
    "total_minutes_sleep"
   ]
  },
  {
   "cell_type": "code",
   "execution_count": 14,
   "id": "d5546cc0",
   "metadata": {},
   "outputs": [
    {
     "data": {
      "text/html": [
       "<div>\n",
       "<style scoped>\n",
       "    .dataframe tbody tr th:only-of-type {\n",
       "        vertical-align: middle;\n",
       "    }\n",
       "\n",
       "    .dataframe tbody tr th {\n",
       "        vertical-align: top;\n",
       "    }\n",
       "\n",
       "    .dataframe thead th {\n",
       "        text-align: right;\n",
       "    }\n",
       "</style>\n",
       "<table border=\"1\" class=\"dataframe\">\n",
       "  <thead>\n",
       "    <tr style=\"text-align: right;\">\n",
       "      <th></th>\n",
       "      <th>Id</th>\n",
       "      <th>ActivityDay</th>\n",
       "      <th>StepTotal</th>\n",
       "    </tr>\n",
       "  </thead>\n",
       "  <tbody>\n",
       "    <tr>\n",
       "      <th>0</th>\n",
       "      <td>1503960366</td>\n",
       "      <td>4/12/2016</td>\n",
       "      <td>13162</td>\n",
       "    </tr>\n",
       "    <tr>\n",
       "      <th>1</th>\n",
       "      <td>1503960366</td>\n",
       "      <td>4/13/2016</td>\n",
       "      <td>10735</td>\n",
       "    </tr>\n",
       "    <tr>\n",
       "      <th>2</th>\n",
       "      <td>1503960366</td>\n",
       "      <td>4/14/2016</td>\n",
       "      <td>10460</td>\n",
       "    </tr>\n",
       "    <tr>\n",
       "      <th>3</th>\n",
       "      <td>1503960366</td>\n",
       "      <td>4/15/2016</td>\n",
       "      <td>9762</td>\n",
       "    </tr>\n",
       "    <tr>\n",
       "      <th>4</th>\n",
       "      <td>1503960366</td>\n",
       "      <td>4/16/2016</td>\n",
       "      <td>12669</td>\n",
       "    </tr>\n",
       "    <tr>\n",
       "      <th>...</th>\n",
       "      <td>...</td>\n",
       "      <td>...</td>\n",
       "      <td>...</td>\n",
       "    </tr>\n",
       "    <tr>\n",
       "      <th>935</th>\n",
       "      <td>8877689391</td>\n",
       "      <td>5/8/2016</td>\n",
       "      <td>10686</td>\n",
       "    </tr>\n",
       "    <tr>\n",
       "      <th>936</th>\n",
       "      <td>8877689391</td>\n",
       "      <td>5/9/2016</td>\n",
       "      <td>20226</td>\n",
       "    </tr>\n",
       "    <tr>\n",
       "      <th>937</th>\n",
       "      <td>8877689391</td>\n",
       "      <td>5/10/2016</td>\n",
       "      <td>10733</td>\n",
       "    </tr>\n",
       "    <tr>\n",
       "      <th>938</th>\n",
       "      <td>8877689391</td>\n",
       "      <td>5/11/2016</td>\n",
       "      <td>21420</td>\n",
       "    </tr>\n",
       "    <tr>\n",
       "      <th>939</th>\n",
       "      <td>8877689391</td>\n",
       "      <td>5/12/2016</td>\n",
       "      <td>8064</td>\n",
       "    </tr>\n",
       "  </tbody>\n",
       "</table>\n",
       "<p>940 rows × 3 columns</p>\n",
       "</div>"
      ],
      "text/plain": [
       "             Id ActivityDay  StepTotal\n",
       "0    1503960366   4/12/2016      13162\n",
       "1    1503960366   4/13/2016      10735\n",
       "2    1503960366   4/14/2016      10460\n",
       "3    1503960366   4/15/2016       9762\n",
       "4    1503960366   4/16/2016      12669\n",
       "..          ...         ...        ...\n",
       "935  8877689391    5/8/2016      10686\n",
       "936  8877689391    5/9/2016      20226\n",
       "937  8877689391   5/10/2016      10733\n",
       "938  8877689391   5/11/2016      21420\n",
       "939  8877689391   5/12/2016       8064\n",
       "\n",
       "[940 rows x 3 columns]"
      ]
     },
     "execution_count": 14,
     "metadata": {},
     "output_type": "execute_result"
    }
   ],
   "source": [
    "total_steps_= pd.read_csv(\"C:/Users/esman/OneDrive/Masaüstü/FitBit_datasets/total_steps.csv\")\n",
    "total_steps_\n"
   ]
  },
  {
   "cell_type": "code",
   "execution_count": 15,
   "id": "45d2b168",
   "metadata": {
    "scrolled": false
   },
   "outputs": [
    {
     "data": {
      "text/html": [
       "<div>\n",
       "<style scoped>\n",
       "    .dataframe tbody tr th:only-of-type {\n",
       "        vertical-align: middle;\n",
       "    }\n",
       "\n",
       "    .dataframe tbody tr th {\n",
       "        vertical-align: top;\n",
       "    }\n",
       "\n",
       "    .dataframe thead th {\n",
       "        text-align: right;\n",
       "    }\n",
       "</style>\n",
       "<table border=\"1\" class=\"dataframe\">\n",
       "  <thead>\n",
       "    <tr style=\"text-align: right;\">\n",
       "      <th></th>\n",
       "      <th>StepTotal</th>\n",
       "    </tr>\n",
       "  </thead>\n",
       "  <tbody>\n",
       "    <tr>\n",
       "      <th>0</th>\n",
       "      <td>13162</td>\n",
       "    </tr>\n",
       "    <tr>\n",
       "      <th>1</th>\n",
       "      <td>10735</td>\n",
       "    </tr>\n",
       "    <tr>\n",
       "      <th>2</th>\n",
       "      <td>10460</td>\n",
       "    </tr>\n",
       "    <tr>\n",
       "      <th>3</th>\n",
       "      <td>9762</td>\n",
       "    </tr>\n",
       "    <tr>\n",
       "      <th>4</th>\n",
       "      <td>12669</td>\n",
       "    </tr>\n",
       "  </tbody>\n",
       "</table>\n",
       "</div>"
      ],
      "text/plain": [
       "   StepTotal\n",
       "0      13162\n",
       "1      10735\n",
       "2      10460\n",
       "3       9762\n",
       "4      12669"
      ]
     },
     "execution_count": 15,
     "metadata": {},
     "output_type": "execute_result"
    }
   ],
   "source": [
    "total_steps = total_steps_.drop([\"Id\", \"ActivityDay\"], axis=1)\n",
    "total_steps.head()"
   ]
  },
  {
   "cell_type": "code",
   "execution_count": 16,
   "id": "e6b6816d",
   "metadata": {
    "scrolled": true
   },
   "outputs": [
    {
     "data": {
      "text/html": [
       "<div>\n",
       "<style scoped>\n",
       "    .dataframe tbody tr th:only-of-type {\n",
       "        vertical-align: middle;\n",
       "    }\n",
       "\n",
       "    .dataframe tbody tr th {\n",
       "        vertical-align: top;\n",
       "    }\n",
       "\n",
       "    .dataframe thead th {\n",
       "        text-align: right;\n",
       "    }\n",
       "</style>\n",
       "<table border=\"1\" class=\"dataframe\">\n",
       "  <thead>\n",
       "    <tr style=\"text-align: right;\">\n",
       "      <th></th>\n",
       "      <th>SedentaryMinutes</th>\n",
       "      <th>LightlyActiveMinutes</th>\n",
       "      <th>FairlyActiveMinutes</th>\n",
       "      <th>VeryActiveMinutes</th>\n",
       "      <th>heartrate</th>\n",
       "      <th>TotalMinutesAsleep</th>\n",
       "      <th>TotalTimeInBed</th>\n",
       "      <th>StepTotal</th>\n",
       "    </tr>\n",
       "  </thead>\n",
       "  <tbody>\n",
       "    <tr>\n",
       "      <th>0</th>\n",
       "      <td>728.000</td>\n",
       "      <td>328.000</td>\n",
       "      <td>13.000</td>\n",
       "      <td>25.000</td>\n",
       "      <td>56</td>\n",
       "      <td>327.000</td>\n",
       "      <td>346.000</td>\n",
       "      <td>13162.000</td>\n",
       "    </tr>\n",
       "    <tr>\n",
       "      <th>1</th>\n",
       "      <td>776.000</td>\n",
       "      <td>217.000</td>\n",
       "      <td>19.000</td>\n",
       "      <td>21.000</td>\n",
       "      <td>58</td>\n",
       "      <td>384.000</td>\n",
       "      <td>407.000</td>\n",
       "      <td>10735.000</td>\n",
       "    </tr>\n",
       "    <tr>\n",
       "      <th>2</th>\n",
       "      <td>1218.000</td>\n",
       "      <td>181.000</td>\n",
       "      <td>11.000</td>\n",
       "      <td>30.000</td>\n",
       "      <td>57</td>\n",
       "      <td>412.000</td>\n",
       "      <td>442.000</td>\n",
       "      <td>10460.000</td>\n",
       "    </tr>\n",
       "    <tr>\n",
       "      <th>3</th>\n",
       "      <td>726.000</td>\n",
       "      <td>209.000</td>\n",
       "      <td>34.000</td>\n",
       "      <td>29.000</td>\n",
       "      <td>58</td>\n",
       "      <td>340.000</td>\n",
       "      <td>367.000</td>\n",
       "      <td>9762.000</td>\n",
       "    </tr>\n",
       "    <tr>\n",
       "      <th>4</th>\n",
       "      <td>773.000</td>\n",
       "      <td>221.000</td>\n",
       "      <td>10.000</td>\n",
       "      <td>36.000</td>\n",
       "      <td>60</td>\n",
       "      <td>700.000</td>\n",
       "      <td>712.000</td>\n",
       "      <td>12669.000</td>\n",
       "    </tr>\n",
       "    <tr>\n",
       "      <th>5</th>\n",
       "      <td>539.000</td>\n",
       "      <td>164.000</td>\n",
       "      <td>20.000</td>\n",
       "      <td>38.000</td>\n",
       "      <td>60</td>\n",
       "      <td>304.000</td>\n",
       "      <td>320.000</td>\n",
       "      <td>9705.000</td>\n",
       "    </tr>\n",
       "    <tr>\n",
       "      <th>6</th>\n",
       "      <td>1149.000</td>\n",
       "      <td>233.000</td>\n",
       "      <td>16.000</td>\n",
       "      <td>42.000</td>\n",
       "      <td>58</td>\n",
       "      <td>360.000</td>\n",
       "      <td>377.000</td>\n",
       "      <td>13019.000</td>\n",
       "    </tr>\n",
       "    <tr>\n",
       "      <th>7</th>\n",
       "      <td>775.000</td>\n",
       "      <td>264.000</td>\n",
       "      <td>31.000</td>\n",
       "      <td>50.000</td>\n",
       "      <td>57</td>\n",
       "      <td>325.000</td>\n",
       "      <td>364.000</td>\n",
       "      <td>15506.000</td>\n",
       "    </tr>\n",
       "    <tr>\n",
       "      <th>8</th>\n",
       "      <td>818.000</td>\n",
       "      <td>205.000</td>\n",
       "      <td>12.000</td>\n",
       "      <td>28.000</td>\n",
       "      <td>55</td>\n",
       "      <td>361.000</td>\n",
       "      <td>384.000</td>\n",
       "      <td>10544.000</td>\n",
       "    </tr>\n",
       "    <tr>\n",
       "      <th>9</th>\n",
       "      <td>838.000</td>\n",
       "      <td>211.000</td>\n",
       "      <td>8.000</td>\n",
       "      <td>19.000</td>\n",
       "      <td>54</td>\n",
       "      <td>430.000</td>\n",
       "      <td>449.000</td>\n",
       "      <td>9819.000</td>\n",
       "    </tr>\n",
       "  </tbody>\n",
       "</table>\n",
       "</div>"
      ],
      "text/plain": [
       "   SedentaryMinutes  LightlyActiveMinutes  FairlyActiveMinutes  VeryActiveMinutes  heartrate  TotalMinutesAsleep  TotalTimeInBed  StepTotal\n",
       "0           728.000               328.000               13.000             25.000         56             327.000         346.000  13162.000\n",
       "1           776.000               217.000               19.000             21.000         58             384.000         407.000  10735.000\n",
       "2          1218.000               181.000               11.000             30.000         57             412.000         442.000  10460.000\n",
       "3           726.000               209.000               34.000             29.000         58             340.000         367.000   9762.000\n",
       "4           773.000               221.000               10.000             36.000         60             700.000         712.000  12669.000\n",
       "5           539.000               164.000               20.000             38.000         60             304.000         320.000   9705.000\n",
       "6          1149.000               233.000               16.000             42.000         58             360.000         377.000  13019.000\n",
       "7           775.000               264.000               31.000             50.000         57             325.000         364.000  15506.000\n",
       "8           818.000               205.000               12.000             28.000         55             361.000         384.000  10544.000\n",
       "9           838.000               211.000                8.000             19.000         54             430.000         449.000   9819.000"
      ]
     },
     "execution_count": 16,
     "metadata": {},
     "output_type": "execute_result"
    }
   ],
   "source": [
    "df_ = pd.concat([exercise_minitues_records, heartrate, total_minutes_sleep, total_steps], axis=1)\n",
    "df = df_.copy()\n",
    "df.head(10)"
   ]
  },
  {
   "cell_type": "code",
   "execution_count": 17,
   "id": "52903898",
   "metadata": {},
   "outputs": [
    {
     "name": "stdout",
     "output_type": "stream",
     "text": [
      "################# SHAPE ####################\n",
      "(941, 8)\n",
      "################# TYPES ####################\n",
      "SedentaryMinutes        float64\n",
      "LightlyActiveMinutes    float64\n",
      "FairlyActiveMinutes     float64\n",
      "VeryActiveMinutes       float64\n",
      "heartrate                 int64\n",
      "TotalMinutesAsleep      float64\n",
      "TotalTimeInBed          float64\n",
      "StepTotal               float64\n",
      "dtype: object\n",
      "################# HEAD ####################\n",
      "   SedentaryMinutes  LightlyActiveMinutes  FairlyActiveMinutes  VeryActiveMinutes  heartrate  TotalMinutesAsleep  TotalTimeInBed  StepTotal\n",
      "0           728.000               328.000               13.000             25.000         56             327.000         346.000  13162.000\n",
      "1           776.000               217.000               19.000             21.000         58             384.000         407.000  10735.000\n",
      "2          1218.000               181.000               11.000             30.000         57             412.000         442.000  10460.000\n",
      "3           726.000               209.000               34.000             29.000         58             340.000         367.000   9762.000\n",
      "4           773.000               221.000               10.000             36.000         60             700.000         712.000  12669.000\n",
      "################# TAİL ####################\n",
      "     SedentaryMinutes  LightlyActiveMinutes  FairlyActiveMinutes  VeryActiveMinutes  heartrate  TotalMinutesAsleep  TotalTimeInBed  StepTotal\n",
      "936          1131.000               217.000               19.000             73.000         85                 NaN             NaN  20226.000\n",
      "937          1187.000               224.000               11.000             18.000         81                 NaN             NaN  10733.000\n",
      "938          1127.000               213.000               12.000             88.000         79                 NaN             NaN  21420.000\n",
      "939           770.000               137.000                1.000             23.000         75                 NaN             NaN   8064.000\n",
      "940               NaN                   NaN                  NaN                NaN         72                 NaN             NaN        NaN\n",
      "################# NA ####################\n",
      "SedentaryMinutes          1\n",
      "LightlyActiveMinutes      1\n",
      "FairlyActiveMinutes       1\n",
      "VeryActiveMinutes         1\n",
      "heartrate                 0\n",
      "TotalMinutesAsleep      528\n",
      "TotalTimeInBed          528\n",
      "StepTotal                 1\n",
      "dtype: int64\n",
      "################# QUANTİLES ####################\n",
      "                       count     mean      std    min     0%      5%      50%       95%       99%      100%       max\n",
      "SedentaryMinutes     940.000  991.211  301.267  0.000  0.000 536.700 1057.500  1440.000  1440.000  1440.000  1440.000\n",
      "LightlyActiveMinutes 940.000  192.813  109.175  0.000  0.000   0.000  199.000   369.050   436.270   518.000   518.000\n",
      "FairlyActiveMinutes  940.000   13.565   19.987  0.000  0.000   0.000    6.000    51.000    95.000   143.000   143.000\n",
      "VeryActiveMinutes    940.000   21.165   32.845  0.000  0.000   0.000    4.000    93.050   125.000   210.000   210.000\n",
      "heartrate            941.000   71.798   14.324 52.000 52.000  56.000   66.000   100.000   106.000   112.000   112.000\n",
      "TotalMinutesAsleep   413.000  419.467  118.345 58.000 58.000 169.000  433.000   590.400   699.040   796.000   796.000\n",
      "TotalTimeInBed       413.000  458.639  127.102 61.000 61.000 220.400  463.000   629.200   834.840   961.000   961.000\n",
      "StepTotal            940.000 7637.911 5087.151  0.000  0.000   0.000 7405.500 15485.100 21909.390 36019.000 36019.000\n"
     ]
    }
   ],
   "source": [
    "#Veriye genel bakış\n",
    "def check_df(dataframe, head=5):\n",
    "    print(\"################# SHAPE ####################\")\n",
    "    print(dataframe.shape)\n",
    "    print(\"################# TYPES ####################\")\n",
    "    print(dataframe.dtypes)\n",
    "    print(\"################# HEAD ####################\")\n",
    "    print(dataframe.head(head))\n",
    "    print(\"################# TAİL ####################\")\n",
    "    print(dataframe.tail(head))\n",
    "    print(\"################# NA ####################\")\n",
    "    print(dataframe.isnull().sum())\n",
    "    print(\"################# QUANTİLES ####################\")\n",
    "    print(dataframe.describe([0, 0.05, 0.5, 0.95, 0.99, 1]).T)\n",
    "check_df(df)"
   ]
  },
  {
   "cell_type": "code",
   "execution_count": 18,
   "id": "67e9875e",
   "metadata": {},
   "outputs": [
    {
     "name": "stdout",
     "output_type": "stream",
     "text": [
      "Observations: 941\n",
      "Variables: 8\n",
      "cat_cols: 0\n",
      "num_cols: 8\n",
      "cat_but_car: 0\n",
      "num_but_cat: 0\n"
     ]
    }
   ],
   "source": [
    "#Değişkenleri Yakalama\n",
    "#cat_th<10 --> cat_cols\n",
    "#car_th>20 --> car_th\n",
    "def grab_col_names(dataframe, cat_th=10, car_th=20):\n",
    "    \"\"\"\n",
    "\n",
    "    Veri setindeki kategorik, numerik ve kategorik fakat kardinal değişkenlerin isimlerini verir.\n",
    "    Not: Kategorik değişkenlerin içerisine numerik görünümlü kategorik değişkenler de dahildir.\n",
    "\n",
    "    Parameters\n",
    "    ------\n",
    "        dataframe: dataframe\n",
    "                Değişken isimleri alınmak istenilen dataframe\n",
    "        cat_th: int, optional\n",
    "                numerik fakat kategorik olan değişkenler için sınıf eşik değeri\n",
    "        car_th: int, optinal\n",
    "                kategorik fakat kardinal değişkenler için sınıf eşik değeri\n",
    "\n",
    "    Returns\n",
    "    ------\n",
    "        cat_cols: list\n",
    "                Kategorik değişken listesi\n",
    "        num_cols: list\n",
    "                Numerik değişken listesi\n",
    "        cat_but_car: list\n",
    "                Kategorik görünümlü kardinal değişken listesi\n",
    "\n",
    "    Examples\n",
    "    ------\n",
    "        import seaborn as sns\n",
    "        df = sns.load_dataset(\"iris\")\n",
    "        print(grab_col_names(df))\n",
    "\n",
    "\n",
    "    Notes\n",
    "    ------\n",
    "        cat_cols + num_cols + cat_but_car = toplam değişken sayısı\n",
    "        num_but_cat cat_cols'un içerisinde.\n",
    "        Return olan 3 liste toplamı toplam değişken sayısına eşittir: cat_cols + num_cols + cat_but_car = değişken sayısı\n",
    "\n",
    "    \"\"\"\n",
    "\n",
    "    # cat_cols, cat_but_car\n",
    "    cat_cols = [col for col in dataframe.columns if dataframe[col].dtypes == \"O\"]               #önce kategorik değişkenler seçilir\n",
    "\n",
    "    num_but_cat = [col for col in dataframe.columns if dataframe[col].nunique() < cat_th and    #numerik ama kategorikler seçilir.\n",
    "                   dataframe[col].dtypes != \"O\"]\n",
    "\n",
    "    # eğer bir kategorik değişkeni 20 den büyükse aynı zamanda tipi de kategorikse bu değişken kategorik değildir. kategorik gibi duruyorsun ama kardinel. yani ölçülebilirliği yok. eşsiz çok fazla sınıfın var.\n",
    "    cat_but_car = [col for col in dataframe.columns if dataframe[col].nunique() > car_th and\n",
    "                   dataframe[col].dtypes == \"O\"]\n",
    "\n",
    "    cat_cols = cat_cols + num_but_cat\n",
    "\n",
    "    cat_cols = [col for col in cat_cols if col not in cat_but_car]\n",
    "\n",
    "    # num_cols\n",
    "    num_cols = [col for col in dataframe.columns if dataframe[col].dtypes != \"O\"]\n",
    "    num_cols = [col for col in num_cols if col not in num_but_cat]\n",
    "\n",
    "    print(f\"Observations: {dataframe.shape[0]}\")\n",
    "    print(f\"Variables: {dataframe.shape[1]}\")\n",
    "    print(f'cat_cols: {len(cat_cols)}')\n",
    "    print(f'num_cols: {len(num_cols)}')\n",
    "    print(f'cat_but_car: {len(cat_but_car)}')\n",
    "    print(f'num_but_cat: {len(num_but_cat)}')\n",
    "\n",
    "    return cat_cols, num_cols, cat_but_car\n",
    "\n",
    "cat_cols, num_cols, cat_but_car = grab_col_names(df)"
   ]
  },
  {
   "cell_type": "markdown",
   "id": "16c1e2fc",
   "metadata": {},
   "source": [
    "# 2. Data Preprocessing & Feature Engineering\n"
   ]
  },
  {
   "cell_type": "code",
   "execution_count": 19,
   "id": "a8120be2",
   "metadata": {},
   "outputs": [],
   "source": [
    "def outlier_thresholds(dataframe,col_name, q1=0.25, q3=0.75):\n",
    "  quartile1 = dataframe[col_name].quantile( q1 )\n",
    "  quartile3 = dataframe[col_name].quantile( q3 )\n",
    "  interquantile_range = quartile3 - quartile1\n",
    "  up_limit = quartile3 + 1.5 * interquantile_range\n",
    "  low_limit = quartile1 - 1.5 * interquantile_range\n",
    "  return low_limit, up_limit"
   ]
  },
  {
   "cell_type": "code",
   "execution_count": 20,
   "id": "4c0dc4bf",
   "metadata": {},
   "outputs": [],
   "source": [
    "def check_outlier(dataframe, col_name):\n",
    "    low_limit, up_limit = outlier_thresholds(dataframe, col_name)\n",
    "    if dataframe[(dataframe[col_name] > up_limit) | (dataframe[col_name] < low_limit)].any(axis=None):\n",
    "        return True  #aykırı değer varsa true döner.\n",
    "    else:\n",
    "        return False "
   ]
  },
  {
   "cell_type": "code",
   "execution_count": 21,
   "id": "9430414d",
   "metadata": {},
   "outputs": [
    {
     "name": "stdout",
     "output_type": "stream",
     "text": [
      "SedentaryMinutes False\n",
      "LightlyActiveMinutes True\n",
      "FairlyActiveMinutes True\n",
      "VeryActiveMinutes True\n",
      "heartrate False\n",
      "TotalMinutesAsleep True\n",
      "TotalTimeInBed True\n",
      "StepTotal True\n"
     ]
    }
   ],
   "source": [
    "for col in num_cols:\n",
    "    print(col, check_outlier(df, col))"
   ]
  },
  {
   "cell_type": "code",
   "execution_count": 22,
   "id": "b9af0bad",
   "metadata": {},
   "outputs": [],
   "source": [
    "def replace_with_thresholds(dataframe, variable):\n",
    "    low_limit, up_limit = outlier_thresholds(dataframe, variable)\n",
    "    dataframe.loc[(dataframe[variable] < low_limit), variable] = low_limit\n",
    "    dataframe.loc[(dataframe[variable] > up_limit), variable] = up_limit\n",
    "\n",
    "for col in num_cols:\n",
    "    replace_with_thresholds(df, col)\n"
   ]
  },
  {
   "cell_type": "code",
   "execution_count": 23,
   "id": "e597e529",
   "metadata": {},
   "outputs": [
    {
     "name": "stdout",
     "output_type": "stream",
     "text": [
      "SedentaryMinutes False\n",
      "LightlyActiveMinutes False\n",
      "FairlyActiveMinutes False\n",
      "VeryActiveMinutes False\n",
      "heartrate False\n",
      "TotalMinutesAsleep False\n",
      "TotalTimeInBed False\n",
      "StepTotal False\n"
     ]
    }
   ],
   "source": [
    "for col in num_cols:\n",
    "    print(col, check_outlier(df, col))"
   ]
  },
  {
   "cell_type": "code",
   "execution_count": 24,
   "id": "4fa604d9",
   "metadata": {},
   "outputs": [],
   "source": [
    "#na_cols=eksik değerlerin olduğu kolonlar\n",
    "na_cols = [col for col in df.columns if df[col].isnull().sum() > 0]\n"
   ]
  },
  {
   "cell_type": "code",
   "execution_count": 25,
   "id": "7c434c11",
   "metadata": {},
   "outputs": [
    {
     "name": "stdout",
     "output_type": "stream",
     "text": [
      "                      n_miss  ratio\n",
      "TotalMinutesAsleep       528 56.110\n",
      "TotalTimeInBed           528 56.110\n",
      "SedentaryMinutes           1  0.110\n",
      "LightlyActiveMinutes       1  0.110\n",
      "FairlyActiveMinutes        1  0.110\n",
      "VeryActiveMinutes          1  0.110\n",
      "StepTotal                  1  0.110\n"
     ]
    }
   ],
   "source": [
    "def missing_values_table(dataframe, na_name=False):\n",
    "    na_columns = [col for col in dataframe.columns if dataframe[col].isnull().sum() > 0]\n",
    "    #eksik değer sayısı için;\n",
    "    n_miss = dataframe[na_columns].isnull().sum().sort_values(ascending=False)\n",
    "    #eksik değer oranı için;\n",
    "    ratio = (dataframe[na_columns].isnull().sum() / dataframe.shape[0] * 100).sort_values(ascending=False)\n",
    "    #axis=1 ,sütunlara göre birleştirme işlemi yapmak istiyorum.\n",
    "    #np.round(..) virgülden sonraki basamakla ilgili bir ayarlama yapılmış.\n",
    "    missing_df = pd.concat([n_miss, np.round(ratio, 2)], axis=1, keys=['n_miss', 'ratio'])\n",
    "    print(missing_df, end=\"\\n\")\n",
    "\n",
    "    if na_name:\n",
    "        return na_columns\n",
    "\n",
    "\n",
    "missing_values_table(df)"
   ]
  },
  {
   "cell_type": "code",
   "execution_count": 26,
   "id": "954f9341",
   "metadata": {},
   "outputs": [
    {
     "name": "stdout",
     "output_type": "stream",
     "text": [
      "                      n_miss  ratio\n",
      "TotalMinutesAsleep       528 56.110\n",
      "TotalTimeInBed           528 56.110\n",
      "SedentaryMinutes           1  0.110\n",
      "LightlyActiveMinutes       1  0.110\n",
      "FairlyActiveMinutes        1  0.110\n",
      "VeryActiveMinutes          1  0.110\n",
      "StepTotal                  1  0.110\n"
     ]
    },
    {
     "data": {
      "text/plain": [
       "['SedentaryMinutes',\n",
       " 'LightlyActiveMinutes',\n",
       " 'FairlyActiveMinutes',\n",
       " 'VeryActiveMinutes',\n",
       " 'TotalMinutesAsleep',\n",
       " 'TotalTimeInBed',\n",
       " 'StepTotal']"
      ]
     },
     "execution_count": 26,
     "metadata": {},
     "output_type": "execute_result"
    }
   ],
   "source": [
    "missing_values_table(df, True)"
   ]
  },
  {
   "cell_type": "code",
   "execution_count": 27,
   "id": "f3a84235",
   "metadata": {},
   "outputs": [],
   "source": [
    "#Eksik Değer Problemini Çözme\n",
    "\n",
    "df.dropna(inplace=True)\n",
    "df.dropna(axis=1, inplace=True)\n"
   ]
  },
  {
   "cell_type": "code",
   "execution_count": 28,
   "id": "4acf7553",
   "metadata": {},
   "outputs": [],
   "source": [
    "for col in df.columns:\n",
    "    col_mean = df[col].mean()\n",
    "    df[col] = df[col].replace(0, col_mean)\n"
   ]
  },
  {
   "cell_type": "markdown",
   "id": "c9204327",
   "metadata": {},
   "source": [
    "# Özellik Ölçeklendirme"
   ]
  },
  {
   "cell_type": "code",
   "execution_count": 29,
   "id": "cff5447f",
   "metadata": {},
   "outputs": [],
   "source": [
    "# Yeni değişkenlerin hesaplanması\n",
    "df['active_life'] = df.loc[:, \"FairlyActiveMinutes\"] + df.loc[:, \"VeryActiveMinutes\"] \n"
   ]
  },
  {
   "cell_type": "code",
   "execution_count": 30,
   "id": "f11e5447",
   "metadata": {},
   "outputs": [],
   "source": [
    "df[\"sleep_quality\"] = df.loc[:, \"TotalMinutesAsleep\"] / df.loc[:, \"TotalTimeInBed\"]"
   ]
  },
  {
   "cell_type": "code",
   "execution_count": 31,
   "id": "1c6835ad",
   "metadata": {},
   "outputs": [],
   "source": [
    "df[\"active_total_time\"] = df.loc[:, \"LightlyActiveMinutes\"] + df.loc[:, \"VeryActiveMinutes\"] + df.loc[:, \"FairlyActiveMinutes\"] \n",
    "#toplamegzersizdakikası"
   ]
  },
  {
   "cell_type": "code",
   "execution_count": 32,
   "id": "c3c3b70b",
   "metadata": {},
   "outputs": [],
   "source": [
    "#average_movement_speed =  adım/dk\n",
    "df[\"average_movement_speed\"] = df.loc[:, \"StepTotal\"] / df.loc[:, \"active_total_time\"]\n"
   ]
  },
  {
   "cell_type": "code",
   "execution_count": 33,
   "id": "c112f290",
   "metadata": {},
   "outputs": [
    {
     "name": "stdout",
     "output_type": "stream",
     "text": [
      "Observations: 413\n",
      "Variables: 12\n",
      "cat_cols: 0\n",
      "num_cols: 12\n",
      "cat_but_car: 0\n",
      "num_but_cat: 0\n"
     ]
    }
   ],
   "source": [
    "cat_cols, num_cols, cat_but_car = grab_col_names(df)"
   ]
  },
  {
   "cell_type": "code",
   "execution_count": 34,
   "id": "47b1ecc1",
   "metadata": {
    "scrolled": false
   },
   "outputs": [],
   "source": [
    "def segment_lifestyle(row):\n",
    "    if (row['StepTotal'] > 15000 or row['active_life'] > 40):\n",
    "        return \"Very_Active_LifeStyle\"\n",
    "    if (row['StepTotal'] < 15000 and row['StepTotal'] > 10000) or (row['active_life'] >20 and row['active_life'] < 40):\n",
    "        return \"Active_LifeStyle\"\n",
    "    if row['StepTotal'] < 10000 or row['active_life'] < 20 or row['SedentaryMinutes'] > 450:\n",
    "        return \"Low_Active_LifeStyle\"\n",
    "        \n",
    "df['segment_lifestyle'] = df.apply(lambda row: segment_lifestyle(row), axis=1)\n"
   ]
  },
  {
   "cell_type": "code",
   "execution_count": 35,
   "id": "44643e59",
   "metadata": {
    "scrolled": true
   },
   "outputs": [],
   "source": [
    "def segment_sleepquality(row):\n",
    "    if(row[\"sleep_quality\"] >= 0.900):\n",
    "        return \"High Sleep Quality\"\n",
    "    if(row[\"sleep_quality\"] >= 0.800 and row[\"sleep_quality\"] < 0.899):\n",
    "        return \"Normal Sleep Quality\"\n",
    "    if(row[\"sleep_quality\"] <= 0.899):\n",
    "        return \"Low Sleep Quality\"\n",
    "        \n",
    "df['segment_sleepquality'] = df.apply(lambda row: segment_sleepquality(row), axis=1)\n"
   ]
  },
  {
   "cell_type": "code",
   "execution_count": 36,
   "id": "af2eaf9f",
   "metadata": {
    "scrolled": true
   },
   "outputs": [],
   "source": [
    "def segment_heartrate(row):\n",
    "    if(row[\"heartrate\"] >= 100):\n",
    "        return \"High Heartrate\"\n",
    "    if(row[\"heartrate\"] >= 60 and row[\"heartrate\"] < 100):\n",
    "        return \"Normal Heartrate\"\n",
    "    if(row[\"sleep_quality\"] < 60):\n",
    "        return \"Low Heartrate\"\n",
    "        \n",
    "df['segment_heartrate'] = df.apply(lambda row: segment_heartrate(row), axis=1)\n"
   ]
  },
  {
   "cell_type": "code",
   "execution_count": 37,
   "id": "d7f3f7eb",
   "metadata": {
    "scrolled": true
   },
   "outputs": [
    {
     "data": {
      "text/html": [
       "<div>\n",
       "<style scoped>\n",
       "    .dataframe tbody tr th:only-of-type {\n",
       "        vertical-align: middle;\n",
       "    }\n",
       "\n",
       "    .dataframe tbody tr th {\n",
       "        vertical-align: top;\n",
       "    }\n",
       "\n",
       "    .dataframe thead th {\n",
       "        text-align: right;\n",
       "    }\n",
       "</style>\n",
       "<table border=\"1\" class=\"dataframe\">\n",
       "  <thead>\n",
       "    <tr style=\"text-align: right;\">\n",
       "      <th></th>\n",
       "      <th>SedentaryMinutes</th>\n",
       "      <th>LightlyActiveMinutes</th>\n",
       "      <th>FairlyActiveMinutes</th>\n",
       "      <th>VeryActiveMinutes</th>\n",
       "      <th>heartrate</th>\n",
       "      <th>TotalMinutesAsleep</th>\n",
       "      <th>TotalTimeInBed</th>\n",
       "      <th>StepTotal</th>\n",
       "      <th>active_life</th>\n",
       "      <th>sleep_quality</th>\n",
       "      <th>active_total_time</th>\n",
       "      <th>average_movement_speed</th>\n",
       "      <th>segment_lifestyle</th>\n",
       "      <th>segment_sleepquality</th>\n",
       "      <th>segment_heartrate</th>\n",
       "      <th>segment_heartrate_encoded</th>\n",
       "    </tr>\n",
       "  </thead>\n",
       "  <tbody>\n",
       "    <tr>\n",
       "      <th>0</th>\n",
       "      <td>728.000</td>\n",
       "      <td>328.000</td>\n",
       "      <td>13.000</td>\n",
       "      <td>25.000</td>\n",
       "      <td>56</td>\n",
       "      <td>327.000</td>\n",
       "      <td>346.000</td>\n",
       "      <td>13162.000</td>\n",
       "      <td>38.000</td>\n",
       "      <td>0.945</td>\n",
       "      <td>366.000</td>\n",
       "      <td>35.962</td>\n",
       "      <td>Active_LifeStyle</td>\n",
       "      <td>High Sleep Quality</td>\n",
       "      <td>Low Heartrate</td>\n",
       "      <td>1</td>\n",
       "    </tr>\n",
       "    <tr>\n",
       "      <th>1</th>\n",
       "      <td>776.000</td>\n",
       "      <td>217.000</td>\n",
       "      <td>19.000</td>\n",
       "      <td>21.000</td>\n",
       "      <td>58</td>\n",
       "      <td>384.000</td>\n",
       "      <td>407.000</td>\n",
       "      <td>10735.000</td>\n",
       "      <td>40.000</td>\n",
       "      <td>0.943</td>\n",
       "      <td>257.000</td>\n",
       "      <td>41.770</td>\n",
       "      <td>Active_LifeStyle</td>\n",
       "      <td>High Sleep Quality</td>\n",
       "      <td>Low Heartrate</td>\n",
       "      <td>1</td>\n",
       "    </tr>\n",
       "    <tr>\n",
       "      <th>2</th>\n",
       "      <td>1218.000</td>\n",
       "      <td>181.000</td>\n",
       "      <td>11.000</td>\n",
       "      <td>30.000</td>\n",
       "      <td>57</td>\n",
       "      <td>412.000</td>\n",
       "      <td>442.000</td>\n",
       "      <td>10460.000</td>\n",
       "      <td>41.000</td>\n",
       "      <td>0.932</td>\n",
       "      <td>222.000</td>\n",
       "      <td>47.117</td>\n",
       "      <td>Very_Active_LifeStyle</td>\n",
       "      <td>High Sleep Quality</td>\n",
       "      <td>Low Heartrate</td>\n",
       "      <td>1</td>\n",
       "    </tr>\n",
       "    <tr>\n",
       "      <th>3</th>\n",
       "      <td>726.000</td>\n",
       "      <td>209.000</td>\n",
       "      <td>34.000</td>\n",
       "      <td>29.000</td>\n",
       "      <td>58</td>\n",
       "      <td>340.000</td>\n",
       "      <td>367.000</td>\n",
       "      <td>9762.000</td>\n",
       "      <td>63.000</td>\n",
       "      <td>0.926</td>\n",
       "      <td>272.000</td>\n",
       "      <td>35.890</td>\n",
       "      <td>Very_Active_LifeStyle</td>\n",
       "      <td>High Sleep Quality</td>\n",
       "      <td>Low Heartrate</td>\n",
       "      <td>1</td>\n",
       "    </tr>\n",
       "    <tr>\n",
       "      <th>4</th>\n",
       "      <td>773.000</td>\n",
       "      <td>221.000</td>\n",
       "      <td>10.000</td>\n",
       "      <td>36.000</td>\n",
       "      <td>60</td>\n",
       "      <td>683.500</td>\n",
       "      <td>710.500</td>\n",
       "      <td>12669.000</td>\n",
       "      <td>46.000</td>\n",
       "      <td>0.962</td>\n",
       "      <td>267.000</td>\n",
       "      <td>47.449</td>\n",
       "      <td>Very_Active_LifeStyle</td>\n",
       "      <td>High Sleep Quality</td>\n",
       "      <td>Normal Heartrate</td>\n",
       "      <td>2</td>\n",
       "    </tr>\n",
       "  </tbody>\n",
       "</table>\n",
       "</div>"
      ],
      "text/plain": [
       "   SedentaryMinutes  LightlyActiveMinutes  FairlyActiveMinutes  VeryActiveMinutes  heartrate  TotalMinutesAsleep  TotalTimeInBed  StepTotal  active_life  sleep_quality  active_total_time  average_movement_speed      segment_lifestyle segment_sleepquality segment_heartrate  segment_heartrate_encoded\n",
       "0           728.000               328.000               13.000             25.000         56             327.000         346.000  13162.000       38.000          0.945            366.000                  35.962       Active_LifeStyle   High Sleep Quality     Low Heartrate                          1\n",
       "1           776.000               217.000               19.000             21.000         58             384.000         407.000  10735.000       40.000          0.943            257.000                  41.770       Active_LifeStyle   High Sleep Quality     Low Heartrate                          1\n",
       "2          1218.000               181.000               11.000             30.000         57             412.000         442.000  10460.000       41.000          0.932            222.000                  47.117  Very_Active_LifeStyle   High Sleep Quality     Low Heartrate                          1\n",
       "3           726.000               209.000               34.000             29.000         58             340.000         367.000   9762.000       63.000          0.926            272.000                  35.890  Very_Active_LifeStyle   High Sleep Quality     Low Heartrate                          1\n",
       "4           773.000               221.000               10.000             36.000         60             683.500         710.500  12669.000       46.000          0.962            267.000                  47.449  Very_Active_LifeStyle   High Sleep Quality  Normal Heartrate                          2"
      ]
     },
     "execution_count": 37,
     "metadata": {},
     "output_type": "execute_result"
    }
   ],
   "source": [
    "df[\"segment_heartrate_encoded\"] = df[\"segment_heartrate\"].replace({\"Low Heartrate\": 1, 'Normal Heartrate': 2, 'High Heartrate':3})\n",
    "df.head(5)"
   ]
  },
  {
   "cell_type": "code",
   "execution_count": 38,
   "id": "4bf8dfe0",
   "metadata": {},
   "outputs": [],
   "source": [
    "#Eksik Değer Problemini Çözme\n",
    "\n",
    "df.dropna(inplace=True)\n",
    "df.dropna(axis=1, inplace=True)"
   ]
  },
  {
   "cell_type": "code",
   "execution_count": 39,
   "id": "b4120ec3",
   "metadata": {},
   "outputs": [],
   "source": [
    "df['segment_lifestyle_encoded'] = df['segment_lifestyle'].replace({\"Low_Active_LifeStyle\": 1, 'Active_LifeStyle': 2, 'Very_Active_LifeStyle':3})\n"
   ]
  },
  {
   "cell_type": "code",
   "execution_count": 40,
   "id": "161421e4",
   "metadata": {
    "scrolled": false
   },
   "outputs": [],
   "source": [
    "df['segment_sleepquality_encoded'] = df['segment_sleepquality'].replace({\"Low Sleep Quality\": 1, 'Normal Sleep Quality': 2, 'High Sleep Quality':3})\n"
   ]
  },
  {
   "cell_type": "code",
   "execution_count": 41,
   "id": "85afd779",
   "metadata": {},
   "outputs": [
    {
     "data": {
      "text/plain": [
       "dtype('int64')"
      ]
     },
     "execution_count": 41,
     "metadata": {},
     "output_type": "execute_result"
    }
   ],
   "source": [
    "df[\"segment_sleepquality_encoded\"].dtype"
   ]
  },
  {
   "cell_type": "code",
   "execution_count": 42,
   "id": "56ad7738",
   "metadata": {
    "scrolled": true
   },
   "outputs": [],
   "source": [
    "df[\"segment_sleepquality_encoded\"] = df[\"segment_sleepquality_encoded\"].astype(int)"
   ]
  },
  {
   "cell_type": "code",
   "execution_count": 43,
   "id": "bc74e0a9",
   "metadata": {},
   "outputs": [],
   "source": [
    "# LİFESTYLE RECOMMENDATİON"
   ]
  },
  {
   "cell_type": "code",
   "execution_count": 44,
   "id": "6cda68c0",
   "metadata": {},
   "outputs": [],
   "source": [
    "def life_style_recommendation(segment_lifestyle):\n",
    "    if segment_lifestyle == \"Very_Active_LifeStyle\":\n",
    "        print(\"YOU'RE DOING GREAT!\")\n",
    "        print(\"Your code for 2 months of free membership at FitBit Gyms --> Your Code: Free_2Months\")\n",
    "        print(\"Code for your purchases at fitbit.com/sportsmarket and fitbit.com/sportsproduct --> Your Code: FitBit_Sports35%\")\n",
    "    elif segment_lifestyle == \"Active_LifeStyle\":\n",
    "        print(\"YOU'RE DOING GREAT!\")\n",
    "        print(\"Your code for 2 months of free membership at FitBit Gyms --> Your Code: Free_2Months\")\n",
    "        print(\"Code for your purchases at fitbit.com/sportsmarket and fitbit.com/sportsproduct --> Your Code: FitBit_Sports_35%\")\n",
    "    else:\n",
    "        print(\"IT'S TIME TO MOVE!\")\n",
    "        print(\"Being inactive for such a long time poses a significant risk to your health.\")\n",
    "        print(\"Start moving by doing the exercise routine in the video provided here every day: https://www.youtube.com/watch?v=DYuw4f1c4xs\")\n",
    "        print(\"It's time to get active! How about having a personal fitness coach always by your side?\")\n",
    "        print(\"Visit Fitbit.com/coaches page, choose a coach that you think is suitable for you, and \"\\\n",
    "              \"get a chance to experience 2 months of free coaching. Your code: Coach_2Months_Free\")\n"
   ]
  },
  {
   "cell_type": "code",
   "execution_count": 45,
   "id": "02cecbeb",
   "metadata": {},
   "outputs": [],
   "source": [
    "def segment_lifestyle_recommendation(step_total, active_life, sedentary_minutes):\n",
    "    segment = segment_lifestyle({'StepTotal': step_total, 'active_life': active_life, 'SedentaryMinutes': sedentary_minutes})\n",
    "    life_style_recommendation(segment)"
   ]
  },
  {
   "cell_type": "code",
   "execution_count": 46,
   "id": "d550f94b",
   "metadata": {},
   "outputs": [],
   "source": [
    "# SLEEP QUALİTY RECOMMENDATİON"
   ]
  },
  {
   "cell_type": "code",
   "execution_count": 48,
   "id": "5a5c28b1",
   "metadata": {},
   "outputs": [],
   "source": [
    "def sleep_quality_recommendation(segment_sleepquality):\n",
    "    if segment_sleepquality == \"High Sleep Quality\":\n",
    "        print(\"GREAT\")\n",
    "        print(\"• Stick to your routine\")\n",
    "        print(\"• Share your bed and pillow with fitbit.com/community and earn 15% discount.\")\n",
    "    elif segment_sleepquality == \"Normal Sleep Quality\":\n",
    "        print(\"YOU ARE FINE!\")\n",
    "        print(\"• You can review your bed and pillow choices to further improve your sleep quality. You can visit fitbit.com/bedding for this. You will receive a 20% discount on your purchases made through this site --> Code: bedding20\")\n",
    "        print(\"• Exercise regularly. Regular exercise can help improve your sleep quality. You can seek help from a professional coach for regular exercise and nutrition. Visit fitbit.com/coach to choose the coach that suits you best and get a one-month free trial --> Code: 1Month_FreeCoach\")\n",
    "        print(\"• Factors such as stress can affect your sleep quality. Contact us to benefit from an expert in this area. +901234567890\")\n",
    "    else:\n",
    "        print(\"IT'S TIME TO MOVE!\")\n",
    "        print(\"• Your sleep quality is very low, and this will have a negative impact on your daily life. If you have serious sleep problems, consult a doctor immediately.\")\n",
    "        print(\"• Establish regular sleep hours for yourself. Try to sleep and wake up at the same time every day.\")\n",
    "        print(\"• You can meditate before sleeping.\")\n",
    "        print(\"• Focus on regular exercise and nutrition. You can get support from a professional coach for this. I will give you a 95% discount on coaches on FitBit.com/coach that you can choose from. Don't forget to visit the 'fitbit.com/coach' page to create your first session. --> Code: Coach_Discount95\")\n",
    "        print(\"• Visit fitbit.com/bedding for a quality sleep. Choose the most suitable bed, pillow, etc. for you. You can also ask for help from our virtual assistant. You will receive a 75% discount on all your purchases --> Code: quality_sleep75\")\n"
   ]
  },
  {
   "cell_type": "code",
   "execution_count": 49,
   "id": "4ddbedbc",
   "metadata": {},
   "outputs": [],
   "source": [
    "def segment_sleepquality_recommendation(sleep_quality):\n",
    "    segment = segment_sleepquality({'sleep_quality': sleep_quality})\n",
    "    sleep_quality_recommendation(segment)"
   ]
  },
  {
   "cell_type": "code",
   "execution_count": null,
   "id": "84cb0df3",
   "metadata": {},
   "outputs": [],
   "source": [
    "def replace_with_thresholds(dataframe, variable):\n",
    "    low_limit, up_limit = outlier_thresholds(dataframe, variable)\n",
    "    dataframe.loc[(dataframe[variable] < low_limit), variable] = low_limit\n",
    "    dataframe.loc[(dataframe[variable] > up_limit), variable] = up_limit\n",
    "\n",
    "for col in num_cols:\n",
    "    replace_with_thresholds(df, col)"
   ]
  },
  {
   "cell_type": "code",
   "execution_count": null,
   "id": "b8a23e9b",
   "metadata": {},
   "outputs": [],
   "source": [
    "df[\"segment_heartrate_encoded\"] = df[\"segment_heartrate_encoded\"].astype(int)\n",
    "df[\"segment_sleepquality_encoded\"] = df[\"segment_sleepquality_encoded\"].astype(int)\n"
   ]
  },
  {
   "cell_type": "code",
   "execution_count": null,
   "id": "b7608c36",
   "metadata": {},
   "outputs": [],
   "source": [
    "from sklearn.utils import resample\n",
    "df_resampled = resample(df, n_samples=370, replace=False, random_state=42)\n"
   ]
  },
  {
   "cell_type": "code",
   "execution_count": null,
   "id": "ee6980b5",
   "metadata": {},
   "outputs": [],
   "source": [
    "def replace_with_thresholds(dataframe, variable):\n",
    "    low_limit, up_limit = outlier_thresholds(dataframe, variable)\n",
    "    dataframe.loc[(dataframe[variable] < low_limit), variable] = low_limit\n",
    "    dataframe.loc[(dataframe[variable] > up_limit), variable] = up_limit\n",
    "\n",
    "for col in num_cols:\n",
    "    replace_with_thresholds(df, col)\n",
    "\n",
    "\n",
    "df.dropna(inplace=True)\n",
    "df.dropna(axis=1, inplace=True)"
   ]
  },
  {
   "cell_type": "markdown",
   "id": "7b383a70",
   "metadata": {},
   "source": [
    "# PREDİCT       \n",
    "       \n",
    "- SLEEP QUALİTY PREDİCT\n",
    "        "
   ]
  },
  {
   "cell_type": "code",
   "execution_count": null,
   "id": "1785b92f",
   "metadata": {},
   "outputs": [],
   "source": [
    "df"
   ]
  },
  {
   "cell_type": "code",
   "execution_count": null,
   "id": "a280eab6",
   "metadata": {},
   "outputs": [],
   "source": [
    "y = df[\"segment_sleepquality\"]\n",
    "X = df.drop([\"SedentaryMinutes\", \"LightlyActiveMinutes\", \"FairlyActiveMinutes\", \"VeryActiveMinutes\", \"heartrate\", \"StepTotal\", \"active_life\", \"sleep_quality\", \"active_total_time\", \"average_movement_speed\", \"segment_lifestyle\", \"segment_sleepquality\", \"segment_heartrate\", \"segment_heartrate_encoded\", \"segment_lifestyle_encoded\", \"segment_sleepquality_encoded\"], axis=1)"
   ]
  },
  {
   "cell_type": "code",
   "execution_count": null,
   "id": "1d8e672a",
   "metadata": {},
   "outputs": [],
   "source": [
    "y"
   ]
  },
  {
   "cell_type": "code",
   "execution_count": null,
   "id": "76e935b7",
   "metadata": {},
   "outputs": [],
   "source": [
    "X"
   ]
  },
  {
   "cell_type": "code",
   "execution_count": null,
   "id": "bfdce6dc",
   "metadata": {},
   "outputs": [],
   "source": [
    "scaler = RobustScaler()\n",
    "X_scaled = scaler.fit_transform(X)"
   ]
  },
  {
   "cell_type": "code",
   "execution_count": 57,
   "id": "7323c604",
   "metadata": {},
   "outputs": [],
   "source": [
    "X_train, X_test, y_train, y_test = train_test_split(X, y, test_size=0.30, random_state=2)"
   ]
  },
  {
   "cell_type": "code",
   "execution_count": 58,
   "id": "f1652462",
   "metadata": {},
   "outputs": [],
   "source": [
    "def random_noise(dataframe):\n",
    "    return np.random.normal(scale=1.6, size=(len(dataframe),))"
   ]
  },
  {
   "cell_type": "code",
   "execution_count": 59,
   "id": "eaaf190d",
   "metadata": {},
   "outputs": [],
   "source": [
    "# Base Models\n",
    "def base_models(X, y, scoring=\"roc_auc\"):\n",
    "    print(\"Base Models....\")\n",
    "    classifiers = [('LR', LogisticRegression()),\n",
    "                   (\"SVC\", SVC()),\n",
    "                   (\"CART\", DecisionTreeClassifier()),\n",
    "                   (\"RF\", RandomForestClassifier()),\n",
    "                   ('Adaboost', AdaBoostClassifier()),\n",
    "                   ('GBM', GradientBoostingClassifier()),\n",
    "                   #('XGBoost', XGBClassifier(use_label_encoder=True, eval_metric='logloss')),\n",
    "                   ('LightGBM', LGBMClassifier()),\n",
    "                   ('CatBoost', CatBoostClassifier(verbose=False))\n",
    "                   ]\n",
    "\n",
    "    for name, classifier in classifiers:\n",
    "        cv_results = cross_validate(classifier, X, y, cv=10, scoring=scoring)\n",
    "        print(f\"{scoring}: {round(cv_results['test_score'].mean(), 4)} ({name}) \")"
   ]
  },
  {
   "cell_type": "code",
   "execution_count": 60,
   "id": "86a3fe08",
   "metadata": {},
   "outputs": [
    {
     "name": "stdout",
     "output_type": "stream",
     "text": [
      "Base Models....\n",
      "accuracy: 0.9927 (LR) \n",
      "accuracy: 0.8902 (SVC) \n",
      "accuracy: 0.9171 (CART) \n",
      "accuracy: 0.9073 (RF) \n",
      "accuracy: 0.8463 (Adaboost) \n",
      "accuracy: 0.8976 (GBM) \n",
      "accuracy: 0.9049 (LightGBM) \n",
      "accuracy: 0.9049 (CatBoost) \n"
     ]
    }
   ],
   "source": [
    "base_models(X, y, scoring= \"accuracy\")\n"
   ]
  },
  {
   "cell_type": "code",
   "execution_count": 61,
   "id": "99310541",
   "metadata": {},
   "outputs": [
    {
     "name": "stdout",
     "output_type": "stream",
     "text": [
      "Base Models....\n",
      "make_scorer(precision_score, average=weighted): 0.9935 (LR) \n",
      "make_scorer(precision_score, average=weighted): 0.8029 (SVC) \n",
      "make_scorer(precision_score, average=weighted): 0.9078 (CART) \n",
      "make_scorer(precision_score, average=weighted): 0.8837 (RF) \n",
      "make_scorer(precision_score, average=weighted): 0.8057 (Adaboost) \n",
      "make_scorer(precision_score, average=weighted): 0.8797 (GBM) \n",
      "make_scorer(precision_score, average=weighted): 0.8947 (LightGBM) \n",
      "make_scorer(precision_score, average=weighted): 0.8884 (CatBoost) \n"
     ]
    }
   ],
   "source": [
    "from sklearn.metrics import make_scorer, precision_score\n",
    "precision_weighted_scorer = make_scorer(precision_score, average='weighted')\n",
    "base_models(X, y, scoring=precision_weighted_scorer)\n"
   ]
  },
  {
   "cell_type": "code",
   "execution_count": 62,
   "id": "19040e9d",
   "metadata": {},
   "outputs": [
    {
     "name": "stdout",
     "output_type": "stream",
     "text": [
      "Base Models....\n",
      "f1_weighted: 0.9923 (LR) \n",
      "f1_weighted: 0.8433 (SVC) \n",
      "f1_weighted: 0.8986 (CART) \n",
      "f1_weighted: 0.8822 (RF) \n",
      "f1_weighted: 0.8221 (Adaboost) \n",
      "f1_weighted: 0.8798 (GBM) \n",
      "f1_weighted: 0.887 (LightGBM) \n",
      "f1_weighted: 0.8871 (CatBoost) \n"
     ]
    }
   ],
   "source": [
    "base_models(X, y, scoring=\"f1_weighted\")\n"
   ]
  },
  {
   "cell_type": "code",
   "execution_count": 63,
   "id": "d7f9ca66",
   "metadata": {},
   "outputs": [
    {
     "name": "stdout",
     "output_type": "stream",
     "text": [
      "Base Models....\n",
      "recall_weighted: 0.9927 (LR) \n",
      "recall_weighted: 0.8902 (SVC) \n",
      "recall_weighted: 0.9073 (CART) \n",
      "recall_weighted: 0.9122 (RF) \n",
      "recall_weighted: 0.8463 (Adaboost) \n",
      "recall_weighted: 0.8976 (GBM) \n",
      "recall_weighted: 0.9049 (LightGBM) \n",
      "recall_weighted: 0.9049 (CatBoost) \n"
     ]
    }
   ],
   "source": [
    "base_models(X, y, scoring=\"recall_weighted\")\n"
   ]
  },
  {
   "cell_type": "code",
   "execution_count": 64,
   "id": "a338ded8",
   "metadata": {},
   "outputs": [
    {
     "name": "stdout",
     "output_type": "stream",
     "text": [
      "Base Models....\n",
      "roc_auc_ovr_weighted: 1.0 (LR) \n",
      "roc_auc_ovr_weighted: nan (SVC) \n",
      "roc_auc_ovr_weighted: 0.8377 (CART) \n",
      "roc_auc_ovr_weighted: 0.947 (RF) \n",
      "roc_auc_ovr_weighted: 0.8061 (Adaboost) \n",
      "roc_auc_ovr_weighted: 0.9469 (GBM) \n",
      "roc_auc_ovr_weighted: 0.9594 (LightGBM) \n",
      "roc_auc_ovr_weighted: 0.9642 (CatBoost) \n"
     ]
    }
   ],
   "source": [
    "base_models(X, y,scoring = \"roc_auc_ovr_weighted\")"
   ]
  },
  {
   "cell_type": "code",
   "execution_count": 65,
   "id": "23cffa14",
   "metadata": {},
   "outputs": [
    {
     "name": "stdout",
     "output_type": "stream",
     "text": [
      "Base Models....\n",
      "r2: nan (LR) \n",
      "r2: nan (SVC) \n",
      "r2: nan (CART) \n",
      "r2: nan (RF) \n",
      "r2: nan (Adaboost) \n",
      "r2: nan (GBM) \n",
      "r2: nan (LightGBM) \n",
      "r2: nan (CatBoost) \n"
     ]
    }
   ],
   "source": [
    "base_models(X, y, scoring=\"r2\")\n"
   ]
  },
  {
   "cell_type": "code",
   "execution_count": 66,
   "id": "08b0fc3a",
   "metadata": {},
   "outputs": [],
   "source": [
    "# Smote uygulanması (Eğitim setine uygulanıyor)\n",
    "from imblearn.over_sampling import SMOTE\n",
    "oversample = SMOTE()\n",
    "X_smote, y_smote = oversample.fit_resample(X_train, y_train)"
   ]
  },
  {
   "cell_type": "markdown",
   "id": "c330fe98",
   "metadata": {},
   "source": [
    "# 3.LightGBM"
   ]
  },
  {
   "cell_type": "code",
   "execution_count": 67,
   "id": "1b09f722",
   "metadata": {},
   "outputs": [
    {
     "data": {
      "text/plain": [
       "{'boosting_type': 'gbdt',\n",
       " 'class_weight': None,\n",
       " 'colsample_bytree': 1.0,\n",
       " 'importance_type': 'split',\n",
       " 'learning_rate': 0.1,\n",
       " 'max_depth': -1,\n",
       " 'min_child_samples': 20,\n",
       " 'min_child_weight': 0.001,\n",
       " 'min_split_gain': 0.0,\n",
       " 'n_estimators': 100,\n",
       " 'n_jobs': -1,\n",
       " 'num_leaves': 31,\n",
       " 'objective': None,\n",
       " 'random_state': 17,\n",
       " 'reg_alpha': 0.0,\n",
       " 'reg_lambda': 0.0,\n",
       " 'silent': 'warn',\n",
       " 'subsample': 1.0,\n",
       " 'subsample_for_bin': 200000,\n",
       " 'subsample_freq': 0}"
      ]
     },
     "execution_count": 67,
     "metadata": {},
     "output_type": "execute_result"
    }
   ],
   "source": [
    "#modelleme\n",
    "lgbm_model = LGBMClassifier(random_state=17)\n",
    "lgbm_model.get_params()"
   ]
  },
  {
   "cell_type": "code",
   "execution_count": 68,
   "id": "ef4a7f26",
   "metadata": {},
   "outputs": [],
   "source": [
    "#parametre setini oluştur.\n",
    "lgbm_params = {\"learning_rate\": [0.01, 0.1],\n",
    "               \"n_estimators\": [100, 300, 500, 1000],\n",
    "               \"colsample_bytree\": [0.5, 0.7, 1]}"
   ]
  },
  {
   "cell_type": "code",
   "execution_count": 69,
   "id": "7c0ed653",
   "metadata": {},
   "outputs": [
    {
     "name": "stdout",
     "output_type": "stream",
     "text": [
      "Fitting 5 folds for each of 24 candidates, totalling 120 fits\n"
     ]
    }
   ],
   "source": [
    "lgbm_best_grid = GridSearchCV(lgbm_model, lgbm_params, cv=5, n_jobs=-1, verbose=True).fit(X, y)"
   ]
  },
  {
   "cell_type": "code",
   "execution_count": 70,
   "id": "9af90807",
   "metadata": {},
   "outputs": [],
   "source": [
    "lgbm_final = lgbm_model.set_params(**lgbm_best_grid.best_params_, random_state=17).fit(X, y)"
   ]
  },
  {
   "cell_type": "code",
   "execution_count": 71,
   "id": "c255a01a",
   "metadata": {},
   "outputs": [],
   "source": [
    "#şimdiki metriklerin değerleri daha yüksek o zaman dahha başarılıyım \n",
    "cv_results = cross_validate(lgbm_final, X, y, cv=5, scoring=[\"accuracy\", \"precision_weighted\", \"recall_weighted\", \"f1_weighted\" , \"roc_auc_ovo_weighted\",\"r2\"])\n"
   ]
  },
  {
   "cell_type": "code",
   "execution_count": 72,
   "id": "22cc2460",
   "metadata": {},
   "outputs": [
    {
     "name": "stdout",
     "output_type": "stream",
     "text": [
      "accuracy: 0.9073170731707318\n",
      "precision_weighted: 0.9037455607280899\n",
      "recall_weighted: 0.9073170731707318\n",
      "f1_weighted: 0.8867075943713282\n"
     ]
    }
   ],
   "source": [
    "print(\"accuracy:\", cv_results['test_accuracy'].mean())\n",
    "print(\"precision_weighted:\", cv_results['test_precision_weighted'].mean())\n",
    "print(\"recall_weighted:\", cv_results['test_recall_weighted'].mean())\n",
    "print(\"f1_weighted:\", cv_results['test_f1_weighted'].mean())"
   ]
  },
  {
   "cell_type": "code",
   "execution_count": 73,
   "id": "33a9a1be",
   "metadata": {},
   "outputs": [
    {
     "name": "stdout",
     "output_type": "stream",
     "text": [
      "Fitting 5 folds for each of 48 candidates, totalling 240 fits\n",
      "accuracy: 0.9073170731707318\n",
      "precision_weighted: 0.9037455607280899\n",
      "recall_weighted: 0.9073170731707318\n",
      "f1_weighted: 0.8867075943713282\n"
     ]
    }
   ],
   "source": [
    "# Hiperparametre yeni değerlerle\n",
    "lgbm_params = {\"learning_rate\": [0.01, 0.02, 0.05, 0.1],\n",
    "               \"n_estimators\": [200, 300, 350, 400],\n",
    "               \"colsample_bytree\": [0.9, 0.8, 1]}\n",
    "\n",
    "lgbm_best_grid = GridSearchCV(lgbm_model, lgbm_params, cv=5, n_jobs=-1, verbose=True).fit(X, y)\n",
    "\n",
    "lgbm_final = lgbm_model.set_params(**lgbm_best_grid.best_params_, random_state=17).fit(X, y)\n",
    "\n",
    "cv_results = cross_validate(lgbm_final, X, y, cv=5, scoring=[\"accuracy\", \"precision_weighted\", \"recall_weighted\", \"f1_weighted\" , \"roc_auc_ovo_weighted\",\"r2\"])\n",
    "\n",
    "print(\"accuracy:\", cv_results['test_accuracy'].mean())\n",
    "print(\"precision_weighted:\", cv_results['test_precision_weighted'].mean())\n",
    "print(\"recall_weighted:\", cv_results['test_recall_weighted'].mean())\n",
    "print(\"f1_weighted:\", cv_results['test_f1_weighted'].mean())"
   ]
  },
  {
   "cell_type": "code",
   "execution_count": 74,
   "id": "1a2457de",
   "metadata": {},
   "outputs": [
    {
     "name": "stdout",
     "output_type": "stream",
     "text": [
      "Fitting 5 folds for each of 7 candidates, totalling 35 fits\n",
      "accuracy: 0.9048780487804878\n",
      "precision_weighted: 0.8921731756765082\n",
      "recall_weighted: 0.9048780487804878\n",
      "f1_weighted: 0.8851822877626686\n"
     ]
    }
   ],
   "source": [
    "# Hiperparametre optimizasyonu sadece n_estimators için.\n",
    "lgbm_model = LGBMClassifier(random_state=17, colsample_bytree=0.9, learning_rate=0.01)\n",
    "\n",
    "lgbm_params = {\"n_estimators\": [200, 400, 1000, 5000, 8000, 9000, 10000]}\n",
    "\n",
    "lgbm_best_grid = GridSearchCV(lgbm_model, lgbm_params, cv=5, n_jobs=-1, verbose=True).fit(X, y)\n",
    "\n",
    "lgbm_final = lgbm_model.set_params(**lgbm_best_grid.best_params_, random_state=17).fit(X, y)\n",
    "\n",
    "cv_results = cross_validate(lgbm_final, X, y, cv=5, scoring=[\"accuracy\", \"precision_weighted\", \"recall_weighted\", \"f1_weighted\" , \"roc_auc_ovo_weighted\",\"r2\"])\n",
    "\n",
    "print(\"accuracy:\", cv_results['test_accuracy'].mean())\n",
    "print(\"precision_weighted:\", cv_results['test_precision_weighted'].mean())\n",
    "print(\"recall_weighted:\", cv_results['test_recall_weighted'].mean())\n",
    "print(\"f1_weighted:\", cv_results['test_f1_weighted'].mean())"
   ]
  },
  {
   "cell_type": "code",
   "execution_count": 75,
   "id": "ab367500",
   "metadata": {},
   "outputs": [
    {
     "data": {
      "text/html": [
       "<style>#sk-container-id-1 {color: black;background-color: white;}#sk-container-id-1 pre{padding: 0;}#sk-container-id-1 div.sk-toggleable {background-color: white;}#sk-container-id-1 label.sk-toggleable__label {cursor: pointer;display: block;width: 100%;margin-bottom: 0;padding: 0.3em;box-sizing: border-box;text-align: center;}#sk-container-id-1 label.sk-toggleable__label-arrow:before {content: \"▸\";float: left;margin-right: 0.25em;color: #696969;}#sk-container-id-1 label.sk-toggleable__label-arrow:hover:before {color: black;}#sk-container-id-1 div.sk-estimator:hover label.sk-toggleable__label-arrow:before {color: black;}#sk-container-id-1 div.sk-toggleable__content {max-height: 0;max-width: 0;overflow: hidden;text-align: left;background-color: #f0f8ff;}#sk-container-id-1 div.sk-toggleable__content pre {margin: 0.2em;color: black;border-radius: 0.25em;background-color: #f0f8ff;}#sk-container-id-1 input.sk-toggleable__control:checked~div.sk-toggleable__content {max-height: 200px;max-width: 100%;overflow: auto;}#sk-container-id-1 input.sk-toggleable__control:checked~label.sk-toggleable__label-arrow:before {content: \"▾\";}#sk-container-id-1 div.sk-estimator input.sk-toggleable__control:checked~label.sk-toggleable__label {background-color: #d4ebff;}#sk-container-id-1 div.sk-label input.sk-toggleable__control:checked~label.sk-toggleable__label {background-color: #d4ebff;}#sk-container-id-1 input.sk-hidden--visually {border: 0;clip: rect(1px 1px 1px 1px);clip: rect(1px, 1px, 1px, 1px);height: 1px;margin: -1px;overflow: hidden;padding: 0;position: absolute;width: 1px;}#sk-container-id-1 div.sk-estimator {font-family: monospace;background-color: #f0f8ff;border: 1px dotted black;border-radius: 0.25em;box-sizing: border-box;margin-bottom: 0.5em;}#sk-container-id-1 div.sk-estimator:hover {background-color: #d4ebff;}#sk-container-id-1 div.sk-parallel-item::after {content: \"\";width: 100%;border-bottom: 1px solid gray;flex-grow: 1;}#sk-container-id-1 div.sk-label:hover label.sk-toggleable__label {background-color: #d4ebff;}#sk-container-id-1 div.sk-serial::before {content: \"\";position: absolute;border-left: 1px solid gray;box-sizing: border-box;top: 0;bottom: 0;left: 50%;z-index: 0;}#sk-container-id-1 div.sk-serial {display: flex;flex-direction: column;align-items: center;background-color: white;padding-right: 0.2em;padding-left: 0.2em;position: relative;}#sk-container-id-1 div.sk-item {position: relative;z-index: 1;}#sk-container-id-1 div.sk-parallel {display: flex;align-items: stretch;justify-content: center;background-color: white;position: relative;}#sk-container-id-1 div.sk-item::before, #sk-container-id-1 div.sk-parallel-item::before {content: \"\";position: absolute;border-left: 1px solid gray;box-sizing: border-box;top: 0;bottom: 0;left: 50%;z-index: -1;}#sk-container-id-1 div.sk-parallel-item {display: flex;flex-direction: column;z-index: 1;position: relative;background-color: white;}#sk-container-id-1 div.sk-parallel-item:first-child::after {align-self: flex-end;width: 50%;}#sk-container-id-1 div.sk-parallel-item:last-child::after {align-self: flex-start;width: 50%;}#sk-container-id-1 div.sk-parallel-item:only-child::after {width: 0;}#sk-container-id-1 div.sk-dashed-wrapped {border: 1px dashed gray;margin: 0 0.4em 0.5em 0.4em;box-sizing: border-box;padding-bottom: 0.4em;background-color: white;}#sk-container-id-1 div.sk-label label {font-family: monospace;font-weight: bold;display: inline-block;line-height: 1.2em;}#sk-container-id-1 div.sk-label-container {text-align: center;}#sk-container-id-1 div.sk-container {/* jupyter's `normalize.less` sets `[hidden] { display: none; }` but bootstrap.min.css set `[hidden] { display: none !important; }` so we also need the `!important` here to be able to override the default hidden behavior on the sphinx rendered scikit-learn.org. See: https://github.com/scikit-learn/scikit-learn/issues/21755 */display: inline-block !important;position: relative;}#sk-container-id-1 div.sk-text-repr-fallback {display: none;}</style><div id=\"sk-container-id-1\" class=\"sk-top-container\"><div class=\"sk-text-repr-fallback\"><pre>LGBMClassifier(colsample_bytree=0.9, learning_rate=0.01, n_estimators=400,\n",
       "               random_state=17)</pre><b>In a Jupyter environment, please rerun this cell to show the HTML representation or trust the notebook. <br />On GitHub, the HTML representation is unable to render, please try loading this page with nbviewer.org.</b></div><div class=\"sk-container\" hidden><div class=\"sk-item\"><div class=\"sk-estimator sk-toggleable\"><input class=\"sk-toggleable__control sk-hidden--visually\" id=\"sk-estimator-id-1\" type=\"checkbox\" checked><label for=\"sk-estimator-id-1\" class=\"sk-toggleable__label sk-toggleable__label-arrow\">LGBMClassifier</label><div class=\"sk-toggleable__content\"><pre>LGBMClassifier(colsample_bytree=0.9, learning_rate=0.01, n_estimators=400,\n",
       "               random_state=17)</pre></div></div></div></div></div>"
      ],
      "text/plain": [
       "LGBMClassifier(colsample_bytree=0.9, learning_rate=0.01, n_estimators=400,\n",
       "               random_state=17)"
      ]
     },
     "execution_count": 75,
     "metadata": {},
     "output_type": "execute_result"
    }
   ],
   "source": [
    "lgbm_model.fit(X_train, y_train)"
   ]
  },
  {
   "cell_type": "code",
   "execution_count": 77,
   "id": "a1c014d2",
   "metadata": {},
   "outputs": [
    {
     "name": "stdout",
     "output_type": "stream",
     "text": [
      "Model Kaydedildi\n"
     ]
    }
   ],
   "source": [
    "import pickle\n",
    "\n",
    "pickle.dump(lgbm_model, open('lgbm_sleepquality.pkl','wb'))\n",
    "print(\"Model Kaydedildi\")"
   ]
  },
  {
   "cell_type": "code",
   "execution_count": 78,
   "id": "1427c180",
   "metadata": {},
   "outputs": [],
   "source": [
    "train_predictions=lgbm_model.predict(X_train)"
   ]
  },
  {
   "cell_type": "code",
   "execution_count": 79,
   "id": "186c5650",
   "metadata": {},
   "outputs": [],
   "source": [
    "test_predictions=lgbm_model.predict(X_test)"
   ]
  },
  {
   "cell_type": "code",
   "execution_count": 80,
   "id": "fbc7a54a",
   "metadata": {},
   "outputs": [],
   "source": [
    "accuracy = accuracy_score(test_predictions, y_test)"
   ]
  },
  {
   "cell_type": "code",
   "execution_count": 81,
   "id": "396ce22f",
   "metadata": {},
   "outputs": [
    {
     "name": "stdout",
     "output_type": "stream",
     "text": [
      "0.8861788617886179\n"
     ]
    }
   ],
   "source": [
    "print(accuracy)"
   ]
  },
  {
   "cell_type": "code",
   "execution_count": 82,
   "id": "db9a0da0",
   "metadata": {},
   "outputs": [
    {
     "name": "stdout",
     "output_type": "stream",
     "text": [
      "['High Sleep Quality']\n"
     ]
    }
   ],
   "source": [
    "example = pd.DataFrame({\n",
    "    \"TotalMinutesAsleep\": [337.000],\n",
    "    \"TotalTimeInBed\": [363.000]\n",
    "})\n",
    "predicted_sleepquality = lgbm_model.predict(example)\n",
    "print(predicted_sleepquality)\n"
   ]
  },
  {
   "cell_type": "code",
   "execution_count": 83,
   "id": "c72dc213",
   "metadata": {},
   "outputs": [],
   "source": [
    "def get_user_sleepquality(TotalMinutesAsleep, TotalTimeInBed):\n",
    "    \n",
    "    data = {'Total Minutes a Sleep': [TotalMinutesAsleep], \n",
    "            'Total Time In Bed': [TotalTimeInBed]\n",
    "           }\n",
    "    \n",
    "    df = pd.DataFrame(data)\n",
    "    predicted_sleepquality = lgbm_model.predict(df)\n",
    "\n",
    "    return predicted_sleepquality"
   ]
  },
  {
   "cell_type": "code",
   "execution_count": 84,
   "id": "3aeaaa21",
   "metadata": {},
   "outputs": [
    {
     "name": "stdout",
     "output_type": "stream",
     "text": [
      "                 y_test                y_pred\n",
      "376  High Sleep Quality    High Sleep Quality\n",
      "411  High Sleep Quality    High Sleep Quality\n",
      "160  High Sleep Quality    High Sleep Quality\n",
      "241  High Sleep Quality    High Sleep Quality\n",
      "186  High Sleep Quality    High Sleep Quality\n",
      "..                  ...                   ...\n",
      "266  High Sleep Quality    High Sleep Quality\n",
      "129  High Sleep Quality  Normal Sleep Quality\n",
      "343  High Sleep Quality    High Sleep Quality\n",
      "29   High Sleep Quality    High Sleep Quality\n",
      "254  High Sleep Quality    High Sleep Quality\n",
      "\n",
      "[123 rows x 2 columns]\n"
     ]
    }
   ],
   "source": [
    "y_pred = lgbm_model.predict(X_test)\n",
    "df['y_pred'] = np.NaN\n",
    "#Tahmin edilen değerleri X_test indeksleriyle eşleştirerek y_pred sütununa ak\n",
    "df.loc[X_test.index, 'y_pred'] = y_pred\n",
    "\n",
    "#karşılaştırmak için\n",
    "df_result = pd.DataFrame({'y_test': y_test, 'y_pred': y_pred})\n",
    "\n",
    "# df_result'i yazdırma\n",
    "print(df_result)\n"
   ]
  },
  {
   "cell_type": "code",
   "execution_count": 85,
   "id": "d4be210b",
   "metadata": {},
   "outputs": [
    {
     "data": {
      "image/png": "[encoded data removed]",
      "text/plain": [
       "<Figure size 1000x500 with 2 Axes>"
      ]
     },
     "metadata": {},
     "output_type": "display_data"
    }
   ],
   "source": [
    "import matplotlib.pyplot as plt\n",
    "\n",
    "test_counts = df_result['y_test'].value_counts(normalize=True)\n",
    "pred_counts = df_result['y_pred'].value_counts(normalize=True)\n",
    "\n",
    "# pasta grafiği oluştur\n",
    "fig, (ax1, ax2) = plt.subplots(1, 2, figsize=(10, 5))\n",
    "ax1.pie(test_counts, labels=test_counts.index, autopct='%1.1f%%', startangle=90)\n",
    "ax1.set_title('Y Test Sınıf Dağılımı')\n",
    "ax2.pie(pred_counts, labels=pred_counts.index, autopct='%1.1f%%', startangle=90)\n",
    "ax2.set_title('Y Pred Sınıf Dağılımı')\n",
    "\n",
    "plt.show()"
   ]
  },
  {
   "cell_type": "code",
   "execution_count": 86,
   "id": "92a62df4",
   "metadata": {},
   "outputs": [
    {
     "data": {
      "image/png": "[encoded data removed]",
      "text/plain": [
       "<Figure size 640x480 with 2 Axes>"
      ]
     },
     "metadata": {},
     "output_type": "display_data"
    },
    {
     "name": "stdout",
     "output_type": "stream",
     "text": [
      "Accuracy: 0.8861788617886179\n",
      "                 y_test                y_pred\n",
      "376  High Sleep Quality    High Sleep Quality\n",
      "411  High Sleep Quality    High Sleep Quality\n",
      "160  High Sleep Quality    High Sleep Quality\n",
      "241  High Sleep Quality    High Sleep Quality\n",
      "186  High Sleep Quality    High Sleep Quality\n",
      "..                  ...                   ...\n",
      "266  High Sleep Quality    High Sleep Quality\n",
      "129  High Sleep Quality  Normal Sleep Quality\n",
      "343  High Sleep Quality    High Sleep Quality\n",
      "29   High Sleep Quality    High Sleep Quality\n",
      "254  High Sleep Quality    High Sleep Quality\n",
      "\n",
      "[123 rows x 2 columns]\n"
     ]
    },
    {
     "data": {
      "image/png": "[encoded data removed]",
      "text/plain": [
       "<Figure size 1500x1500 with 3 Axes>"
      ]
     },
     "metadata": {},
     "output_type": "display_data"
    },
    {
     "name": "stdout",
     "output_type": "stream",
     "text": [
      "Hata oranı: 0.11382113821138207\n"
     ]
    },
    {
     "data": {
      "image/png": "[encoded data removed]",
      "text/plain": [
       "<Figure size 640x480 with 1 Axes>"
      ]
     },
     "metadata": {},
     "output_type": "display_data"
    }
   ],
   "source": [
    "from sklearn.metrics import confusion_matrix\n",
    "\n",
    "# Confusion Matrix'in oluşturulması\n",
    "cm = confusion_matrix(y_test, y_pred)\n",
    "\n",
    "# Confusion Matrix'in görselleştirilmesi\n",
    "fig, ax = plt.subplots()\n",
    "im = ax.imshow(cm, interpolation='nearest', cmap=plt.cm.Blues)\n",
    "ax.figure.colorbar(im, ax=ax)\n",
    "ax.set(xticks=np.arange(cm.shape[1]),\n",
    "       yticks=np.arange(cm.shape[0]),\n",
    "       xticklabels=lgbm_model.classes_, yticklabels=lgbm_model.classes_,\n",
    "       title='Confusion matrix',\n",
    "       ylabel='Gerçek Değerler',\n",
    "       xlabel='Tahmin Edilen Değerler')\n",
    "\n",
    "# Confusion Matrix üzerindeki değerlerin yazdırılması\n",
    "thresh = cm.max() / 2.\n",
    "for i in range(cm.shape[0]):\n",
    "    for j in range(cm.shape[1]):\n",
    "        ax.text(j, i, format(cm[i, j], 'd'),\n",
    "                ha=\"center\", va=\"center\",\n",
    "                color=\"white\" if cm[i, j] > thresh else \"black\")\n",
    "\n",
    "# Confusion Matrix'in gösterilmesi\n",
    "fig.tight_layout()\n",
    "plt.show()\n",
    "\n",
    "# Accuracy değerinin hesaplanması ve yazdırılması\n",
    "accuracy = accuracy_score(y_test, y_pred)\n",
    "print(f\"Accuracy: {accuracy}\")\n",
    "\n",
    "# df_result oluşturulması\n",
    "df_result = pd.DataFrame({'y_test': y_test, 'y_pred': y_pred})\n",
    "\n",
    "# df_result'in yazdırılması\n",
    "print(df_result)\n",
    "\n",
    "# df_result'in pasta grafiği ile gösterimi\n",
    "df_result.groupby(['y_test','y_pred']).size().unstack().plot(kind='pie',subplots=True, figsize=(15, 15),autopct='%1.1f%%')\n",
    "plt.show()\n",
    "\n",
    "# Hata oranının hesaplanması ve yazdırılması\n",
    "error_rate = 1 - accuracy\n",
    "print(f\"Hata oranı: {error_rate}\")\n",
    "\n",
    "# Hata oranının gösterilmesi\n",
    "plt.bar(['Accuracy', 'Error Rate'], [accuracy, error_rate])\n",
    "plt.show()"
   ]
  },
  {
   "cell_type": "code",
   "execution_count": 87,
   "id": "29eb983e",
   "metadata": {},
   "outputs": [],
   "source": [
    "#pickle\n"
   ]
  },
  {
   "cell_type": "code",
   "execution_count": null,
   "id": "04612810",
   "metadata": {},
   "outputs": [],
   "source": []
  },
  {
   "cell_type": "code",
   "execution_count": null,
   "id": "233202f7",
   "metadata": {},
   "outputs": [],
   "source": []
  },
  {
   "cell_type": "code",
   "execution_count": null,
   "id": "3fecfc0c",
   "metadata": {},
   "outputs": [],
   "source": []
  },
  {
   "cell_type": "code",
   "execution_count": null,
   "id": "e05d375f",
   "metadata": {},
   "outputs": [],
   "source": []
  },
  {
   "cell_type": "code",
   "execution_count": null,
   "id": "51768dd2",
   "metadata": {},
   "outputs": [],
   "source": []
  },
  {
   "cell_type": "code",
   "execution_count": null,
   "id": "c267bca1",
   "metadata": {},
   "outputs": [],
   "source": []
  },
  {
   "cell_type": "code",
   "execution_count": null,
   "id": "29cfe19b",
   "metadata": {},
   "outputs": [],
   "source": []
  }
 ],
 "metadata": {
  "kernelspec": {
   "display_name": "Python 3 (ipykernel)",
   "language": "python",
   "name": "python3"
  },
  "language_info": {
   "codemirror_mode": {
    "name": "ipython",
    "version": 3
   },
   "file_extension": ".py",
   "mimetype": "text/x-python",
   "name": "python",
   "nbconvert_exporter": "python",
   "pygments_lexer": "ipython3",
   "version": "3.9.16"
  }
 },
 "nbformat": 4,
 "nbformat_minor": 5
}
