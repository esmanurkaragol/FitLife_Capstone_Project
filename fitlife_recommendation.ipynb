{
 "cells": [
  {
   "cell_type": "markdown",
   "id": "d7712082",
   "metadata": {},
   "source": [
    "# LİFESTYLE RECOMMENDATİON"
   ]
  },
  {
   "cell_type": "code",
   "execution_count": null,
   "id": "acb24be0",
   "metadata": {},
   "outputs": [],
   "source": [
    "def segment_lifestyle(row):\n",
    "    if (row['StepTotal'] > 15000 or row['active_life'] > 40):\n",
    "        return \"Very_Active_LifeStyle\"\n",
    "    if (row['StepTotal'] < 15000 and row['StepTotal'] > 10000) or (row['active_life'] >20 and row['active_life'] < 40):\n",
    "        return \"Active_LifeStyle\"\n",
    "    if row['StepTotal'] < 10000 or row['active_life'] < 20 or row['SedentaryMinutes'] > 450:\n",
    "        return \"Low_Active_LifeStyle\"\n",
    "        \n",
    "df['segment_lifestyle'] = df.apply(lambda row: segment_lifestyle(row), axis=1)"
   ]
  },
  {
   "cell_type": "code",
   "execution_count": null,
   "id": "f9cc836e",
   "metadata": {},
   "outputs": [],
   "source": [
    "def life_style_recommendation(segment_lifestyle):\n",
    "    if segment_lifestyle == \"Very_Active_LifeStyle\":\n",
    "        print(\"mükemmel\")\n",
    "    elif segment_lifestyle == \"Active_LifeStyle\":\n",
    "        print(\"1111\")\n",
    "    else:\n",
    "        print(\"normal\")"
   ]
  },
  {
   "cell_type": "code",
   "execution_count": null,
   "id": "69948225",
   "metadata": {},
   "outputs": [],
   "source": [
    "def segment_lifestyle_recommendation(step_total, active_life, sedentary_minutes):\n",
    "    segment = segment_lifestyle({'StepTotal': step_total, 'active_life': active_life, 'SedentaryMinutes': sedentary_minutes})\n",
    "    life_style_recommendation(segment)"
   ]
  },
  {
   "cell_type": "code",
   "execution_count": null,
   "id": "5cf734de",
   "metadata": {},
   "outputs": [],
   "source": [
    "segment_lifestyle_recommendation(198, 65, 387)\n"
   ]
  },
  {
   "cell_type": "markdown",
   "id": "0f1d1bc4",
   "metadata": {},
   "source": [
    "# SLEEP QUALİTY RECOMMENDATİON"
   ]
  },
  {
   "cell_type": "code",
   "execution_count": null,
   "id": "d9ee2219",
   "metadata": {},
   "outputs": [],
   "source": [
    "def segment_sleepquality(row):\n",
    "    if(row[\"sleep_quality\"] >= 0.900):\n",
    "        return \"High Sleep Quality\"\n",
    "    if(row[\"sleep_quality\"] >= 0.800 and row[\"sleep_quality\"] < 0.899):\n",
    "        return \"Normal Sleep Quality\"\n",
    "    if(row[\"sleep_quality\"] <= 0.899):\n",
    "        return \"Low Sleep Quality\"\n",
    "        \n",
    "df['segment_sleepquality'] = df.apply(lambda row: segment_sleepquality(row), axis=1)"
   ]
  },
  {
   "cell_type": "code",
   "execution_count": null,
   "id": "81af4a3b",
   "metadata": {},
   "outputs": [],
   "source": [
    "def sleep_quality_recommendation(segment_sleepquality):\n",
    "    if segment_sleepquality == \"High Sleep Quality\":\n",
    "        print(\"mükemmel\")\n",
    "    elif segment_sleepquality == \"Normal Sleep Quality\":\n",
    "        print(\"1111\")\n",
    "    else:\n",
    "        print(\"normal\")"
   ]
  },
  {
   "cell_type": "code",
   "execution_count": null,
   "id": "b6fb23e6",
   "metadata": {},
   "outputs": [],
   "source": [
    "def segment_sleepquality_recommendation(sleep_quality):\n",
    "    segment = segment_sleepquality({'sleep_quality': sleep_quality})\n",
    "    sleep_quality_recommendation(segment)"
   ]
  },
  {
   "cell_type": "code",
   "execution_count": null,
   "id": "f28a10e5",
   "metadata": {},
   "outputs": [],
   "source": [
    "segment_sleepquality_recommendation (0.80)"
   ]
  },
  {
   "cell_type": "code",
   "execution_count": null,
   "id": "6a831e1a",
   "metadata": {},
   "outputs": [],
   "source": []
  },
  {
   "cell_type": "code",
   "execution_count": null,
   "id": "114a8da6",
   "metadata": {},
   "outputs": [],
   "source": []
  },
  {
   "cell_type": "code",
   "execution_count": null,
   "id": "a181e9e3",
   "metadata": {},
   "outputs": [],
   "source": []
  },
  {
   "cell_type": "code",
   "execution_count": null,
   "id": "6ced601a",
   "metadata": {},
   "outputs": [],
   "source": []
  },
  {
   "cell_type": "code",
   "execution_count": null,
   "id": "ffd038b9",
   "metadata": {},
   "outputs": [],
   "source": []
  }
 ],
 "metadata": {
  "kernelspec": {
   "display_name": "Python 3 (ipykernel)",
   "language": "python",
   "name": "python3"
  },
  "language_info": {
   "codemirror_mode": {
    "name": "ipython",
    "version": 3
   },
   "file_extension": ".py",
   "mimetype": "text/x-python",
   "name": "python",
   "nbconvert_exporter": "python",
   "pygments_lexer": "ipython3",
   "version": "3.9.16"
  }
 },
 "nbformat": 4,
 "nbformat_minor": 5
}
